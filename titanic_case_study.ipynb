{
 "cells": [
  {
   "cell_type": "markdown",
   "metadata": {},
   "source": [
    "<div align=\"center\"><h1> Titanic - Machine Learning from Disaster </h1></div> \n",
    "\n",
    "## Scope of Work\n",
    "\n",
    "|Deliverable|Tasks                    |\n",
    "|:----------:|:------------------------|\n",
    "|1. Defining the problem|<ul><li>Producing a scope of work document</li><li>Framing a problem statement</li></ul>|\n",
    "|2. Gather and prepare the data for modeling|<ul><li>Download and view the testing and training data</li><li>Research and apply the right data manipulation tools for processing and analysis</li><li>Wrangle and clean the data to a point where it can be worked with effectively in modeling</li></ul>|\n",
    "|3. Model|<ul><li>Apply the correct algorithm(s) that fulfill the objectives of the project</li><li>Train and test</li></ul>|\n",
    "|4. Reiterate|<ul><li>Based on the results, look back and reiterate on anything that may require improvement to achieve a more accurate model</li></ul>|\n",
    "\n",
    "# Background & Problem Statement\n",
    "This case is part of a competition hosted by Kaggle, with an overview of the project found [here](https://www.kaggle.com/c/titanic/overview). On April 15, 1912, 1502 out of the 2224 lives on board the Titanic were snuffed out after the ship collided with an iceberg. Those who died and those who survived tied their fate to an abundance of factors. The challenge is to come up with a predictive model that accurately classifies a passenger's fate of survival or death."
   ]
  },
  {
   "cell_type": "markdown",
   "metadata": {},
   "source": [
    "# Gathering and Preparing the Data for Exploration\n",
    "\n",
    "## Downloading and Viewing the Testing and Training Data\n",
    "\n",
    "Since Kaggle is providing the data, we don't need to concern ourselves with ROCC (reliable, original, comprehensive, current and credible) standards. We'll jump right into the data and make some initial observations.\n",
    "\n",
    "Apart from the target variable we're interested in determining (Survived), the test and train sets match up feature wise.\n",
    "\n",
    "## Applying the Right Tools\n",
    "\n",
    "The file sizes are fairly small, so we'll do all of our data manipulation and analysis with R, a general purpose programming language perfect for statistical analysis and visualization. \n",
    "\n",
    "Let's look at our data sets"
   ]
  },
  {
   "cell_type": "code",
   "execution_count": 523,
   "metadata": {
    "ExecuteTime": {
     "end_time": "2021-11-14T03:32:09.386029Z",
     "start_time": "2021-11-14T03:32:09.342Z"
    },
    "scrolled": false
   },
   "outputs": [
    {
     "name": "stdout",
     "output_type": "stream",
     "text": [
      "test data rows and columns:  418 11 \n",
      "training data rows and columns:  891 12"
     ]
    }
   ],
   "source": [
    "options(warn=-1)\n",
    "\n",
    "# importing the libraries we'll need\n",
    "library(Amelia)\n",
    "library(aod)\n",
    "library(dplyr)\n",
    "library(Hmisc)\n",
    "library(ggplot2)\n",
    "library(tidyr)\n",
    "library(fastDummies)\n",
    "library(tidyverse)\n",
    "library(stringr)\n",
    "\n",
    "# import the included csv files into separate dataframes\n",
    "df_test <- read.csv(file = 'test.csv')\n",
    "df_train <- read.csv(file = 'train.csv')\n",
    "\n",
    "# get the dimension of our frames\n",
    "cat(\"test data rows and columns: \", dim(df_test), \"\\n\")\n",
    "cat(\"training data rows and columns: \", dim(df_train))\n",
    "\n",
    "# combine our data frames (except for the Survived variable) for a more concrete analysis\n",
    "df_all = rbind(subset(df_train, select = -c(Survived)),df_test)"
   ]
  },
  {
   "cell_type": "markdown",
   "metadata": {},
   "source": [
    "Our training to test set size ratio is roughly 70:30, which is ideal given our small dataset size.\n",
    "\n",
    "Let's see what kind of values fill up these variables"
   ]
  },
  {
   "cell_type": "code",
   "execution_count": 524,
   "metadata": {
    "ExecuteTime": {
     "end_time": "2021-11-14T03:32:09.412029Z",
     "start_time": "2021-11-14T03:32:09.347Z"
    },
    "scrolled": false
   },
   "outputs": [
    {
     "data": {
      "text/plain": [
       "  PassengerId       Pclass          Name               Sex           \n",
       " Min.   :   1   Min.   :1.000   Length:1309        Length:1309       \n",
       " 1st Qu.: 328   1st Qu.:2.000   Class :character   Class :character  \n",
       " Median : 655   Median :3.000   Mode  :character   Mode  :character  \n",
       " Mean   : 655   Mean   :2.295                                        \n",
       " 3rd Qu.: 982   3rd Qu.:3.000                                        \n",
       " Max.   :1309   Max.   :3.000                                        \n",
       "                                                                     \n",
       "      Age            SibSp            Parch          Ticket         \n",
       " Min.   : 0.17   Min.   :0.0000   Min.   :0.000   Length:1309       \n",
       " 1st Qu.:21.00   1st Qu.:0.0000   1st Qu.:0.000   Class :character  \n",
       " Median :28.00   Median :0.0000   Median :0.000   Mode  :character  \n",
       " Mean   :29.88   Mean   :0.4989   Mean   :0.385                     \n",
       " 3rd Qu.:39.00   3rd Qu.:1.0000   3rd Qu.:0.000                     \n",
       " Max.   :80.00   Max.   :8.0000   Max.   :9.000                     \n",
       " NA's   :263                                                        \n",
       "      Fare            Cabin             Embarked        \n",
       " Min.   :  0.000   Length:1309        Length:1309       \n",
       " 1st Qu.:  7.896   Class :character   Class :character  \n",
       " Median : 14.454   Mode  :character   Mode  :character  \n",
       " Mean   : 33.295                                        \n",
       " 3rd Qu.: 31.275                                        \n",
       " Max.   :512.329                                        \n",
       " NA's   :1                                              "
      ]
     },
     "metadata": {},
     "output_type": "display_data"
    }
   ],
   "source": [
    "summary(df_all)"
   ]
  },
  {
   "cell_type": "code",
   "execution_count": 525,
   "metadata": {
    "ExecuteTime": {
     "end_time": "2021-11-14T03:32:09.439029Z",
     "start_time": "2021-11-14T03:32:09.351Z"
    }
   },
   "outputs": [
    {
     "data": {
      "text/html": [
       "<style>\n",
       ".dl-inline {width: auto; margin:0; padding: 0}\n",
       ".dl-inline>dt, .dl-inline>dd {float: none; width: auto; display: inline-block}\n",
       ".dl-inline>dt::after {content: \":\\0020\"; padding-right: .5ex}\n",
       ".dl-inline>dt:not(:first-of-type) {padding-left: .5ex}\n",
       "</style><dl class=dl-inline><dt>PassengerId</dt><dd>378.020061196052</dd><dt>Pclass</dt><dd>0.837836018970127</dd><dt>Name</dt><dd>&lt;NA&gt;</dd><dt>Sex</dt><dd>&lt;NA&gt;</dd><dt>Age</dt><dd>&lt;NA&gt;</dd><dt>SibSp</dt><dd>1.0416583905961</dd><dt>Parch</dt><dd>0.865560275349515</dd><dt>Ticket</dt><dd>&lt;NA&gt;</dd><dt>Fare</dt><dd>&lt;NA&gt;</dd><dt>Cabin</dt><dd>&lt;NA&gt;</dd><dt>Embarked</dt><dd>&lt;NA&gt;</dd></dl>\n"
      ],
      "text/latex": [
       "\\begin{description*}\n",
       "\\item[PassengerId] 378.020061196052\n",
       "\\item[Pclass] 0.837836018970127\n",
       "\\item[Name] <NA>\n",
       "\\item[Sex] <NA>\n",
       "\\item[Age] <NA>\n",
       "\\item[SibSp] 1.0416583905961\n",
       "\\item[Parch] 0.865560275349515\n",
       "\\item[Ticket] <NA>\n",
       "\\item[Fare] <NA>\n",
       "\\item[Cabin] <NA>\n",
       "\\item[Embarked] <NA>\n",
       "\\end{description*}\n"
      ],
      "text/markdown": [
       "PassengerId\n",
       ":   378.020061196052Pclass\n",
       ":   0.837836018970127Name\n",
       ":   &lt;NA&gt;Sex\n",
       ":   &lt;NA&gt;Age\n",
       ":   &lt;NA&gt;SibSp\n",
       ":   1.0416583905961Parch\n",
       ":   0.865560275349515Ticket\n",
       ":   &lt;NA&gt;Fare\n",
       ":   &lt;NA&gt;Cabin\n",
       ":   &lt;NA&gt;Embarked\n",
       ":   &lt;NA&gt;\n",
       "\n"
      ],
      "text/plain": [
       "PassengerId      Pclass        Name         Sex         Age       SibSp \n",
       "378.0200612   0.8378360          NA          NA          NA   1.0416584 \n",
       "      Parch      Ticket        Fare       Cabin    Embarked \n",
       "  0.8655603          NA          NA          NA          NA "
      ]
     },
     "metadata": {},
     "output_type": "display_data"
    }
   ],
   "source": [
    "# standard deviations of our numerical variables\n",
    "sapply(df_all, sd)"
   ]
  },
  {
   "cell_type": "markdown",
   "metadata": {},
   "source": [
    "And let's get a sense of the unique values for each categorical variable (which have a character data type)."
   ]
  },
  {
   "cell_type": "code",
   "execution_count": 526,
   "metadata": {
    "ExecuteTime": {
     "end_time": "2021-11-14T03:32:09.475059Z",
     "start_time": "2021-11-14T03:32:09.354Z"
    },
    "scrolled": true
   },
   "outputs": [
    {
     "name": "stdout",
     "output_type": "stream",
     "text": [
      "Number of unique values:\n",
      "\n",
      "Embarked: 3 \n",
      "Cabin: 186 \n",
      "Ticket: 929 \n",
      "Name: 1307"
     ]
    }
   ],
   "source": [
    "# convert empty strings into nulls\n",
    "df_all[df_all == \"\"] <- NA\n",
    "\n",
    "# count the number of unique values for each variable\n",
    "cat(\"Number of unique values:\\n\\n\")\n",
    "cat(\"Embarked:\", length(unique(na.omit(df_all[[\"Embarked\"]]))),\"\\n\")\n",
    "cat(\"Cabin:\", length(unique(na.omit(df_all[[\"Cabin\"]]))),\"\\n\")\n",
    "cat(\"Ticket:\", length(unique(na.omit(df_all[[\"Ticket\"]]))),\"\\n\")\n",
    "cat(\"Name:\", length(unique(na.omit(df_all[[\"Name\"]]))))"
   ]
  },
  {
   "cell_type": "markdown",
   "metadata": {},
   "source": [
    "As well as the histograms of our numerical features, to get a sense of each variable's distribution"
   ]
  },
  {
   "cell_type": "code",
   "execution_count": 527,
   "metadata": {
    "ExecuteTime": {
     "end_time": "2021-11-14T03:32:09.656029Z",
     "start_time": "2021-11-14T03:32:09.359Z"
    }
   },
   "outputs": [
    {
     "data": {
      "image/png": "[encoded data removed]",
      "text/plain": [
       "Plot with title \"Pclass\""
      ]
     },
     "metadata": {
      "image/png": {
       "height": 420,
       "width": 420
      }
     },
     "output_type": "display_data"
    },
    {
     "data": {
      "image/png": "[encoded data removed]",
      "text/plain": [
       "Plot with title \"Age\""
      ]
     },
     "metadata": {
      "image/png": {
       "height": 420,
       "width": 420
      }
     },
     "output_type": "display_data"
    },
    {
     "data": {
      "image/png": "[encoded data removed]",
      "text/plain": [
       "Plot with title \"SibSp\""
      ]
     },
     "metadata": {
      "image/png": {
       "height": 420,
       "width": 420
      }
     },
     "output_type": "display_data"
    },
    {
     "data": {
      "image/png": "[encoded data removed]",
      "text/plain": [
       "Plot with title \"Parch\""
      ]
     },
     "metadata": {
      "image/png": {
       "height": 420,
       "width": 420
      }
     },
     "output_type": "display_data"
    },
    {
     "data": {
      "image/png": "[encoded data removed]",
      "text/plain": [
       "Plot with title \"Fare\""
      ]
     },
     "metadata": {
      "image/png": {
       "height": 420,
       "width": 420
      }
     },
     "output_type": "display_data"
    }
   ],
   "source": [
    "for (col in colnames(df_all[,2:11])) {\n",
    "    if (is.numeric(df_all[[col]])){\n",
    "        hist(df_all[[col]], main = col, xlab = col)\n",
    "    }\n",
    "}"
   ]
  },
  {
   "cell_type": "markdown",
   "metadata": {},
   "source": [
    "Now, let's define our variables, mention their associated types and any expected feature transformations that will arise later. \n",
    "\n",
    "<b>Survived (0 = Dead or 1 = Alive)</b>: Dichotomous\n",
    "    \n",
    "This will be our target variable, which we'll calculate with the help of independent variables.\n",
    "\n",
    "<b>PassengerId</b>: Irrelevant\n",
    "\n",
    "Our training set consists of passengers with IDs between 1 and 891, with the test set between 892 and 1309. These IDs are presumably random unique identifiers for each person on board - so it doesn't represent a chronological ordering to passenger embarkment. This variable is excluded from our analysis and model since it has no bearing over a passenger's survivability. \n",
    "\n",
    "<b>Pclass (1 = Upper class, 2 = Middle class, 3 = Lower class)</b>: Ordinal\n",
    "\n",
    "Short for a passenger's ticket class, Pclass represents a passenger's socio-economic status.\n",
    "    \n",
    "<b>Sex (Male, Female)</b>: Dichotomous\n",
    "    \n",
    "There is significantly more males than females on board, nearly 2:1. Sex will need to be converted to dummy variables.\n",
    "    \n",
    "<b>Age</b>: Continuous\n",
    "    \n",
    "Nearly 20% of passengers do not have a recorded age. Age will need to be converted to a discrete variable via binning. \n",
    "    \n",
    "<b>SibSp</b>: Discrete\n",
    "    \n",
    "Represents the number of related siblings and spouses on board.\n",
    "    \n",
    "<b>Parch</b>: Discrete  \n",
    "    \n",
    "Represents the number of related parents and children on board.\n",
    "   \n",
    "<b>Fare</b>: Continuous\n",
    "    \n",
    "Represents the amount a passenger paid for admission. Fare will need to be converted to a discrete variable via binning. \n",
    "    \n",
    "<b>Cabin</b>: Nominal, Insufficient data\n",
    "    \n",
    "Represents the cabin accommodations in letter/number format. It contains quite a few null values in either set (nearly ~80%). With little to no data to work with, keeping this variable will likely negatively affect our model's performance. This column will be dropped.\n",
    "    \n",
    "<b>Embarked (C = Cherbourg, Q = Queenstown, S = Southampton)</b>: Nominal\n",
    "    \n",
    "This represents the port of embarkation. Embarked will require conversion into dummy variables.\n",
    "    \n",
    "<b>Name</b>: Nominal, Semi-irrelevant\n",
    "\n",
    "A passenger's name includes several potentially relevant features like a person's title or marital status (Miss vs Mrs). If we engineer these features into dummy variables, they may prove to be useful to our model. \n",
    "\n",
    "<b>Ticket</b>: Nominal, Potentially irrelevant\n",
    "\n",
    "You would think that ticket numbers would be unique to each passenger, but we find that there are several identical ticket numbers associated with different PassengerIds. These numbers could potentially have some influence on our target variable if the variable holds any significance beyond a passenger's admission. I have not been able to find any important associations, so we will drop this column from our analysis.\n",
    "    \n",
    "Let's move on to data cleaning"
   ]
  },
  {
   "cell_type": "markdown",
   "metadata": {},
   "source": [
    "## Clean and Wrangle for Analysis\n",
    "\n",
    "Let's clean our data by removing egregious values and handling missing values. We'll also apply some feature engineering and convert our variables into a format that can be used in our prediction model.\n",
    "\n",
    "1. Cleaning: Correct egregious values - deleting invalid data, dealing with duplicates and verifying outliers\n",
    "\n",
    "Let's drop our cabin column and then check to see if there are any concerning duplicates"
   ]
  },
  {
   "cell_type": "code",
   "execution_count": 528,
   "metadata": {
    "ExecuteTime": {
     "end_time": "2021-11-14T03:32:09.682059Z",
     "start_time": "2021-11-14T03:32:09.364Z"
    }
   },
   "outputs": [
    {
     "data": {
      "text/html": [],
      "text/latex": [],
      "text/markdown": [],
      "text/plain": [
       "integer(0)"
      ]
     },
     "metadata": {},
     "output_type": "display_data"
    },
    {
     "data": {
      "text/html": [],
      "text/latex": [],
      "text/markdown": [],
      "text/plain": [
       "integer(0)"
      ]
     },
     "metadata": {},
     "output_type": "display_data"
    }
   ],
   "source": [
    "# drop Cabin from our dataframes\n",
    "df_all <- subset(df_all, select = -c(Cabin))\n",
    "df_test <- subset(df_test, select = -c(Cabin))\n",
    "df_train <- subset(df_train, select = -c(Cabin))\n",
    "\n",
    "# checking for duplicate PassengerIds\n",
    "df_test$PassengerId[duplicated(df_test$PassengerId)]\n",
    "df_train$PassengerId[duplicated(df_train$PassengerId)]"
   ]
  },
  {
   "cell_type": "markdown",
   "metadata": {},
   "source": [
    "All of our passengers are referenced by unique passenger IDs. However, we did note that there were several identical ticket numbers, so let's verify that these rows aren't problematic by comparing them side by side."
   ]
  },
  {
   "cell_type": "code",
   "execution_count": 529,
   "metadata": {
    "ExecuteTime": {
     "end_time": "2021-11-14T03:32:09.713058Z",
     "start_time": "2021-11-14T03:32:09.368Z"
    },
    "scrolled": true
   },
   "outputs": [
    {
     "data": {
      "text/html": [
       "<table class=\"dataframe\">\n",
       "<caption>A data.frame: 8 × 10</caption>\n",
       "<thead>\n",
       "\t<tr><th></th><th scope=col>PassengerId</th><th scope=col>Pclass</th><th scope=col>Name</th><th scope=col>Sex</th><th scope=col>Age</th><th scope=col>SibSp</th><th scope=col>Parch</th><th scope=col>Ticket</th><th scope=col>Fare</th><th scope=col>Embarked</th></tr>\n",
       "\t<tr><th></th><th scope=col>&lt;int&gt;</th><th scope=col>&lt;int&gt;</th><th scope=col>&lt;chr&gt;</th><th scope=col>&lt;chr&gt;</th><th scope=col>&lt;dbl&gt;</th><th scope=col>&lt;int&gt;</th><th scope=col>&lt;int&gt;</th><th scope=col>&lt;chr&gt;</th><th scope=col>&lt;dbl&gt;</th><th scope=col>&lt;chr&gt;</th></tr>\n",
       "</thead>\n",
       "<tbody>\n",
       "\t<tr><th scope=row>369</th><td>1260</td><td>1</td><td>Gibson, Mrs. Leonard (Pauline C Boeson)     </td><td>female</td><td>45.0</td><td>0</td><td>1</td><td>112378</td><td> 59.40</td><td>C</td></tr>\n",
       "\t<tr><th scope=row>403</th><td>1294</td><td>1</td><td>Gibson, Miss. Dorothy Winifred              </td><td>female</td><td>22.0</td><td>0</td><td>1</td><td>112378</td><td> 59.40</td><td>C</td></tr>\n",
       "\t<tr><th scope=row>75</th><td> 966</td><td>1</td><td>Geiger, Miss. Amalie                        </td><td>female</td><td>35.0</td><td>0</td><td>0</td><td>113503</td><td>211.50</td><td>C</td></tr>\n",
       "\t<tr><th scope=row>76</th><td> 967</td><td>1</td><td>Keeping, Mr. Edwin                          </td><td>male  </td><td>32.5</td><td>0</td><td>0</td><td>113503</td><td>211.50</td><td>C</td></tr>\n",
       "\t<tr><th scope=row>219</th><td>1110</td><td>1</td><td>Widener, Mrs. George Dunton (Eleanor Elkins)</td><td>female</td><td>50.0</td><td>1</td><td>1</td><td>113503</td><td>211.50</td><td>C</td></tr>\n",
       "\t<tr><th scope=row>408</th><td>1299</td><td>1</td><td>Widener, Mr. George Dunton                  </td><td>male  </td><td>50.0</td><td>1</td><td>1</td><td>113503</td><td>211.50</td><td>C</td></tr>\n",
       "\t<tr><th scope=row>142</th><td>1033</td><td>1</td><td>Daniels, Miss. Sarah                        </td><td>female</td><td>33.0</td><td>0</td><td>0</td><td>113781</td><td>151.55</td><td>S</td></tr>\n",
       "\t<tr><th scope=row>307</th><td>1198</td><td>1</td><td>Allison, Mr. Hudson Joshua Creighton        </td><td>male  </td><td>30.0</td><td>1</td><td>2</td><td>113781</td><td>151.55</td><td>S</td></tr>\n",
       "</tbody>\n",
       "</table>\n"
      ],
      "text/latex": [
       "A data.frame: 8 × 10\n",
       "\\begin{tabular}{r|llllllllll}\n",
       "  & PassengerId & Pclass & Name & Sex & Age & SibSp & Parch & Ticket & Fare & Embarked\\\\\n",
       "  & <int> & <int> & <chr> & <chr> & <dbl> & <int> & <int> & <chr> & <dbl> & <chr>\\\\\n",
       "\\hline\n",
       "\t369 & 1260 & 1 & Gibson, Mrs. Leonard (Pauline C Boeson)      & female & 45.0 & 0 & 1 & 112378 &  59.40 & C\\\\\n",
       "\t403 & 1294 & 1 & Gibson, Miss. Dorothy Winifred               & female & 22.0 & 0 & 1 & 112378 &  59.40 & C\\\\\n",
       "\t75 &  966 & 1 & Geiger, Miss. Amalie                         & female & 35.0 & 0 & 0 & 113503 & 211.50 & C\\\\\n",
       "\t76 &  967 & 1 & Keeping, Mr. Edwin                           & male   & 32.5 & 0 & 0 & 113503 & 211.50 & C\\\\\n",
       "\t219 & 1110 & 1 & Widener, Mrs. George Dunton (Eleanor Elkins) & female & 50.0 & 1 & 1 & 113503 & 211.50 & C\\\\\n",
       "\t408 & 1299 & 1 & Widener, Mr. George Dunton                   & male   & 50.0 & 1 & 1 & 113503 & 211.50 & C\\\\\n",
       "\t142 & 1033 & 1 & Daniels, Miss. Sarah                         & female & 33.0 & 0 & 0 & 113781 & 151.55 & S\\\\\n",
       "\t307 & 1198 & 1 & Allison, Mr. Hudson Joshua Creighton         & male   & 30.0 & 1 & 2 & 113781 & 151.55 & S\\\\\n",
       "\\end{tabular}\n"
      ],
      "text/markdown": [
       "\n",
       "A data.frame: 8 × 10\n",
       "\n",
       "| <!--/--> | PassengerId &lt;int&gt; | Pclass &lt;int&gt; | Name &lt;chr&gt; | Sex &lt;chr&gt; | Age &lt;dbl&gt; | SibSp &lt;int&gt; | Parch &lt;int&gt; | Ticket &lt;chr&gt; | Fare &lt;dbl&gt; | Embarked &lt;chr&gt; |\n",
       "|---|---|---|---|---|---|---|---|---|---|---|\n",
       "| 369 | 1260 | 1 | Gibson, Mrs. Leonard (Pauline C Boeson)      | female | 45.0 | 0 | 1 | 112378 |  59.40 | C |\n",
       "| 403 | 1294 | 1 | Gibson, Miss. Dorothy Winifred               | female | 22.0 | 0 | 1 | 112378 |  59.40 | C |\n",
       "| 75 |  966 | 1 | Geiger, Miss. Amalie                         | female | 35.0 | 0 | 0 | 113503 | 211.50 | C |\n",
       "| 76 |  967 | 1 | Keeping, Mr. Edwin                           | male   | 32.5 | 0 | 0 | 113503 | 211.50 | C |\n",
       "| 219 | 1110 | 1 | Widener, Mrs. George Dunton (Eleanor Elkins) | female | 50.0 | 1 | 1 | 113503 | 211.50 | C |\n",
       "| 408 | 1299 | 1 | Widener, Mr. George Dunton                   | male   | 50.0 | 1 | 1 | 113503 | 211.50 | C |\n",
       "| 142 | 1033 | 1 | Daniels, Miss. Sarah                         | female | 33.0 | 0 | 0 | 113781 | 151.55 | S |\n",
       "| 307 | 1198 | 1 | Allison, Mr. Hudson Joshua Creighton         | male   | 30.0 | 1 | 2 | 113781 | 151.55 | S |\n",
       "\n"
      ],
      "text/plain": [
       "    PassengerId Pclass Name                                         Sex    Age \n",
       "369 1260        1      Gibson, Mrs. Leonard (Pauline C Boeson)      female 45.0\n",
       "403 1294        1      Gibson, Miss. Dorothy Winifred               female 22.0\n",
       "75   966        1      Geiger, Miss. Amalie                         female 35.0\n",
       "76   967        1      Keeping, Mr. Edwin                           male   32.5\n",
       "219 1110        1      Widener, Mrs. George Dunton (Eleanor Elkins) female 50.0\n",
       "408 1299        1      Widener, Mr. George Dunton                   male   50.0\n",
       "142 1033        1      Daniels, Miss. Sarah                         female 33.0\n",
       "307 1198        1      Allison, Mr. Hudson Joshua Creighton         male   30.0\n",
       "    SibSp Parch Ticket Fare   Embarked\n",
       "369 0     1     112378  59.40 C       \n",
       "403 0     1     112378  59.40 C       \n",
       "75  0     0     113503 211.50 C       \n",
       "76  0     0     113503 211.50 C       \n",
       "219 1     1     113503 211.50 C       \n",
       "408 1     1     113503 211.50 C       \n",
       "142 0     0     113781 151.55 S       \n",
       "307 1     2     113781 151.55 S       "
      ]
     },
     "metadata": {},
     "output_type": "display_data"
    }
   ],
   "source": [
    "df <- df_test[duplicated(df_test[\"Ticket\"]) | duplicated(df_test[\"Ticket\"], fromLast = TRUE),]\n",
    "head(df[order(df[\"Ticket\"]),],8)"
   ]
  },
  {
   "cell_type": "markdown",
   "metadata": {},
   "source": [
    "Nothing seems out of the ordinary.\n",
    "\n",
    "All other columns are non-unique variables, so we'll stop here and move on to look at any significant numerical outliers, starting with passenger fares followed by passenger age."
   ]
  },
  {
   "cell_type": "code",
   "execution_count": 530,
   "metadata": {
    "ExecuteTime": {
     "end_time": "2021-11-14T03:32:09.797059Z",
     "start_time": "2021-11-14T03:32:09.372Z"
    }
   },
   "outputs": [
    {
     "data": {
      "image/png": "[encoded data removed]",
      "text/plain": [
       "plot without title"
      ]
     },
     "metadata": {
      "image/png": {
       "height": 420,
       "width": 420
      }
     },
     "output_type": "display_data"
    },
    {
     "data": {
      "image/png": "[encoded data removed]",
      "text/plain": [
       "plot without title"
      ]
     },
     "metadata": {
      "image/png": {
       "height": 420,
       "width": 420
      }
     },
     "output_type": "display_data"
    }
   ],
   "source": [
    "boxplot(list(test_fare = df_test$Fare, train_fare = df_train$Fare), boxwex = .5)\n",
    "boxplot(list(test_age = df_test$Age, train_age = df_train$Age), boxwex = .5)"
   ]
  },
  {
   "cell_type": "markdown",
   "metadata": {},
   "source": [
    "There are several potentially problematic outliers that may be too unrealistic, namely the fares that are above $200 USD. We can get a sense of whether these ticket prices actually legitimate if they align correctly with the associated passenger's socio economic status. "
   ]
  },
  {
   "cell_type": "code",
   "execution_count": 531,
   "metadata": {
    "ExecuteTime": {
     "end_time": "2021-11-14T03:32:09.837028Z",
     "start_time": "2021-11-14T03:32:09.376Z"
    },
    "scrolled": true
   },
   "outputs": [
    {
     "data": {
      "text/html": [
       "<table class=\"dataframe\">\n",
       "<caption>A data.frame: 19 × 2</caption>\n",
       "<thead>\n",
       "\t<tr><th></th><th scope=col>Pclass</th><th scope=col>Fare</th></tr>\n",
       "\t<tr><th></th><th scope=col>&lt;int&gt;</th><th scope=col>&lt;dbl&gt;</th></tr>\n",
       "</thead>\n",
       "<tbody>\n",
       "\t<tr><th scope=row>25</th><td> 1</td><td>262.3750</td></tr>\n",
       "\t<tr><th scope=row>54</th><td> 1</td><td>263.0000</td></tr>\n",
       "\t<tr><th scope=row>60</th><td> 1</td><td>262.3750</td></tr>\n",
       "\t<tr><th scope=row>65</th><td> 1</td><td>262.3750</td></tr>\n",
       "\t<tr><th scope=row>70</th><td> 1</td><td>263.0000</td></tr>\n",
       "\t<tr><th scope=row>75</th><td> 1</td><td>211.5000</td></tr>\n",
       "\t<tr><th scope=row>76</th><td> 1</td><td>211.5000</td></tr>\n",
       "\t<tr><th scope=row>82</th><td> 1</td><td>221.7792</td></tr>\n",
       "\t<tr><th scope=row>115</th><td> 1</td><td>221.7792</td></tr>\n",
       "\t<tr><th scope=row>143</th><td> 1</td><td>262.3750</td></tr>\n",
       "\t<tr><th scope=row>NA</th><td>NA</td><td>      NA</td></tr>\n",
       "\t<tr><th scope=row>157</th><td> 1</td><td>221.7792</td></tr>\n",
       "\t<tr><th scope=row>185</th><td> 1</td><td>247.5208</td></tr>\n",
       "\t<tr><th scope=row>203</th><td> 1</td><td>227.5250</td></tr>\n",
       "\t<tr><th scope=row>219</th><td> 1</td><td>211.5000</td></tr>\n",
       "\t<tr><th scope=row>325</th><td> 1</td><td>211.3375</td></tr>\n",
       "\t<tr><th scope=row>344</th><td> 1</td><td>512.3292</td></tr>\n",
       "\t<tr><th scope=row>376</th><td> 1</td><td>262.3750</td></tr>\n",
       "\t<tr><th scope=row>408</th><td> 1</td><td>211.5000</td></tr>\n",
       "</tbody>\n",
       "</table>\n"
      ],
      "text/latex": [
       "A data.frame: 19 × 2\n",
       "\\begin{tabular}{r|ll}\n",
       "  & Pclass & Fare\\\\\n",
       "  & <int> & <dbl>\\\\\n",
       "\\hline\n",
       "\t25 &  1 & 262.3750\\\\\n",
       "\t54 &  1 & 263.0000\\\\\n",
       "\t60 &  1 & 262.3750\\\\\n",
       "\t65 &  1 & 262.3750\\\\\n",
       "\t70 &  1 & 263.0000\\\\\n",
       "\t75 &  1 & 211.5000\\\\\n",
       "\t76 &  1 & 211.5000\\\\\n",
       "\t82 &  1 & 221.7792\\\\\n",
       "\t115 &  1 & 221.7792\\\\\n",
       "\t143 &  1 & 262.3750\\\\\n",
       "\tNA & NA &       NA\\\\\n",
       "\t157 &  1 & 221.7792\\\\\n",
       "\t185 &  1 & 247.5208\\\\\n",
       "\t203 &  1 & 227.5250\\\\\n",
       "\t219 &  1 & 211.5000\\\\\n",
       "\t325 &  1 & 211.3375\\\\\n",
       "\t344 &  1 & 512.3292\\\\\n",
       "\t376 &  1 & 262.3750\\\\\n",
       "\t408 &  1 & 211.5000\\\\\n",
       "\\end{tabular}\n"
      ],
      "text/markdown": [
       "\n",
       "A data.frame: 19 × 2\n",
       "\n",
       "| <!--/--> | Pclass &lt;int&gt; | Fare &lt;dbl&gt; |\n",
       "|---|---|---|\n",
       "| 25 |  1 | 262.3750 |\n",
       "| 54 |  1 | 263.0000 |\n",
       "| 60 |  1 | 262.3750 |\n",
       "| 65 |  1 | 262.3750 |\n",
       "| 70 |  1 | 263.0000 |\n",
       "| 75 |  1 | 211.5000 |\n",
       "| 76 |  1 | 211.5000 |\n",
       "| 82 |  1 | 221.7792 |\n",
       "| 115 |  1 | 221.7792 |\n",
       "| 143 |  1 | 262.3750 |\n",
       "| NA | NA |       NA |\n",
       "| 157 |  1 | 221.7792 |\n",
       "| 185 |  1 | 247.5208 |\n",
       "| 203 |  1 | 227.5250 |\n",
       "| 219 |  1 | 211.5000 |\n",
       "| 325 |  1 | 211.3375 |\n",
       "| 344 |  1 | 512.3292 |\n",
       "| 376 |  1 | 262.3750 |\n",
       "| 408 |  1 | 211.5000 |\n",
       "\n"
      ],
      "text/plain": [
       "    Pclass Fare    \n",
       "25   1     262.3750\n",
       "54   1     263.0000\n",
       "60   1     262.3750\n",
       "65   1     262.3750\n",
       "70   1     263.0000\n",
       "75   1     211.5000\n",
       "76   1     211.5000\n",
       "82   1     221.7792\n",
       "115  1     221.7792\n",
       "143  1     262.3750\n",
       "NA  NA           NA\n",
       "157  1     221.7792\n",
       "185  1     247.5208\n",
       "203  1     227.5250\n",
       "219  1     211.5000\n",
       "325  1     211.3375\n",
       "344  1     512.3292\n",
       "376  1     262.3750\n",
       "408  1     211.5000"
      ]
     },
     "metadata": {},
     "output_type": "display_data"
    },
    {
     "data": {
      "text/html": [
       "<table class=\"dataframe\">\n",
       "<caption>A data.frame: 20 × 2</caption>\n",
       "<thead>\n",
       "\t<tr><th></th><th scope=col>Pclass</th><th scope=col>Fare</th></tr>\n",
       "\t<tr><th></th><th scope=col>&lt;int&gt;</th><th scope=col>&lt;dbl&gt;</th></tr>\n",
       "</thead>\n",
       "<tbody>\n",
       "\t<tr><th scope=row>28</th><td>1</td><td>263.0000</td></tr>\n",
       "\t<tr><th scope=row>89</th><td>1</td><td>263.0000</td></tr>\n",
       "\t<tr><th scope=row>119</th><td>1</td><td>247.5208</td></tr>\n",
       "\t<tr><th scope=row>259</th><td>1</td><td>512.3292</td></tr>\n",
       "\t<tr><th scope=row>300</th><td>1</td><td>247.5208</td></tr>\n",
       "\t<tr><th scope=row>312</th><td>1</td><td>262.3750</td></tr>\n",
       "\t<tr><th scope=row>342</th><td>1</td><td>263.0000</td></tr>\n",
       "\t<tr><th scope=row>378</th><td>1</td><td>211.5000</td></tr>\n",
       "\t<tr><th scope=row>381</th><td>1</td><td>227.5250</td></tr>\n",
       "\t<tr><th scope=row>439</th><td>1</td><td>263.0000</td></tr>\n",
       "\t<tr><th scope=row>528</th><td>1</td><td>221.7792</td></tr>\n",
       "\t<tr><th scope=row>558</th><td>1</td><td>227.5250</td></tr>\n",
       "\t<tr><th scope=row>680</th><td>1</td><td>512.3292</td></tr>\n",
       "\t<tr><th scope=row>690</th><td>1</td><td>211.3375</td></tr>\n",
       "\t<tr><th scope=row>701</th><td>1</td><td>227.5250</td></tr>\n",
       "\t<tr><th scope=row>717</th><td>1</td><td>227.5250</td></tr>\n",
       "\t<tr><th scope=row>731</th><td>1</td><td>211.3375</td></tr>\n",
       "\t<tr><th scope=row>738</th><td>1</td><td>512.3292</td></tr>\n",
       "\t<tr><th scope=row>743</th><td>1</td><td>262.3750</td></tr>\n",
       "\t<tr><th scope=row>780</th><td>1</td><td>211.3375</td></tr>\n",
       "</tbody>\n",
       "</table>\n"
      ],
      "text/latex": [
       "A data.frame: 20 × 2\n",
       "\\begin{tabular}{r|ll}\n",
       "  & Pclass & Fare\\\\\n",
       "  & <int> & <dbl>\\\\\n",
       "\\hline\n",
       "\t28 & 1 & 263.0000\\\\\n",
       "\t89 & 1 & 263.0000\\\\\n",
       "\t119 & 1 & 247.5208\\\\\n",
       "\t259 & 1 & 512.3292\\\\\n",
       "\t300 & 1 & 247.5208\\\\\n",
       "\t312 & 1 & 262.3750\\\\\n",
       "\t342 & 1 & 263.0000\\\\\n",
       "\t378 & 1 & 211.5000\\\\\n",
       "\t381 & 1 & 227.5250\\\\\n",
       "\t439 & 1 & 263.0000\\\\\n",
       "\t528 & 1 & 221.7792\\\\\n",
       "\t558 & 1 & 227.5250\\\\\n",
       "\t680 & 1 & 512.3292\\\\\n",
       "\t690 & 1 & 211.3375\\\\\n",
       "\t701 & 1 & 227.5250\\\\\n",
       "\t717 & 1 & 227.5250\\\\\n",
       "\t731 & 1 & 211.3375\\\\\n",
       "\t738 & 1 & 512.3292\\\\\n",
       "\t743 & 1 & 262.3750\\\\\n",
       "\t780 & 1 & 211.3375\\\\\n",
       "\\end{tabular}\n"
      ],
      "text/markdown": [
       "\n",
       "A data.frame: 20 × 2\n",
       "\n",
       "| <!--/--> | Pclass &lt;int&gt; | Fare &lt;dbl&gt; |\n",
       "|---|---|---|\n",
       "| 28 | 1 | 263.0000 |\n",
       "| 89 | 1 | 263.0000 |\n",
       "| 119 | 1 | 247.5208 |\n",
       "| 259 | 1 | 512.3292 |\n",
       "| 300 | 1 | 247.5208 |\n",
       "| 312 | 1 | 262.3750 |\n",
       "| 342 | 1 | 263.0000 |\n",
       "| 378 | 1 | 211.5000 |\n",
       "| 381 | 1 | 227.5250 |\n",
       "| 439 | 1 | 263.0000 |\n",
       "| 528 | 1 | 221.7792 |\n",
       "| 558 | 1 | 227.5250 |\n",
       "| 680 | 1 | 512.3292 |\n",
       "| 690 | 1 | 211.3375 |\n",
       "| 701 | 1 | 227.5250 |\n",
       "| 717 | 1 | 227.5250 |\n",
       "| 731 | 1 | 211.3375 |\n",
       "| 738 | 1 | 512.3292 |\n",
       "| 743 | 1 | 262.3750 |\n",
       "| 780 | 1 | 211.3375 |\n",
       "\n"
      ],
      "text/plain": [
       "    Pclass Fare    \n",
       "28  1      263.0000\n",
       "89  1      263.0000\n",
       "119 1      247.5208\n",
       "259 1      512.3292\n",
       "300 1      247.5208\n",
       "312 1      262.3750\n",
       "342 1      263.0000\n",
       "378 1      211.5000\n",
       "381 1      227.5250\n",
       "439 1      263.0000\n",
       "528 1      221.7792\n",
       "558 1      227.5250\n",
       "680 1      512.3292\n",
       "690 1      211.3375\n",
       "701 1      227.5250\n",
       "717 1      227.5250\n",
       "731 1      211.3375\n",
       "738 1      512.3292\n",
       "743 1      262.3750\n",
       "780 1      211.3375"
      ]
     },
     "metadata": {},
     "output_type": "display_data"
    }
   ],
   "source": [
    "# filter individuals who have paid a fare greater or equal to $200 USD\n",
    "df_test[df_test$Fare >= 200, c(\"Pclass\",\"Fare\")]\n",
    "df_train[df_train$Fare >= 200, c(\"Pclass\",\"Fare\")]"
   ]
  },
  {
   "cell_type": "markdown",
   "metadata": {},
   "source": [
    "Social classes seem to line up with the high fares, so we'll keep the Fare outliers in our sets.\n",
    "\n",
    "Looking back at the outliers in our age variable, it's fair to assume that there could have been a few passengers that were around the age of 80 on the ship. So let's move on.\n",
    "\n",
    "2. Cleaning: Handling missing values\n",
    "\n",
    "Let's check the extent of missing data in our data sets"
   ]
  },
  {
   "cell_type": "code",
   "execution_count": 532,
   "metadata": {
    "ExecuteTime": {
     "end_time": "2021-11-14T03:32:09.875030Z",
     "start_time": "2021-11-14T03:32:09.381Z"
    },
    "scrolled": true
   },
   "outputs": [
    {
     "name": "stdout",
     "output_type": "stream",
     "text": [
      "Missing values in:\n",
      "\n",
      "Training data set columns:\n",
      "-------------------------"
     ]
    },
    {
     "data": {
      "text/html": [
       "<style>\n",
       ".dl-inline {width: auto; margin:0; padding: 0}\n",
       ".dl-inline>dt, .dl-inline>dd {float: none; width: auto; display: inline-block}\n",
       ".dl-inline>dt::after {content: \":\\0020\"; padding-right: .5ex}\n",
       ".dl-inline>dt:not(:first-of-type) {padding-left: .5ex}\n",
       "</style><dl class=dl-inline><dt>PassengerId</dt><dd>0</dd><dt>Survived</dt><dd>0</dd><dt>Pclass</dt><dd>0</dd><dt>Name</dt><dd>0</dd><dt>Sex</dt><dd>0</dd><dt>Age</dt><dd>177</dd><dt>SibSp</dt><dd>0</dd><dt>Parch</dt><dd>0</dd><dt>Ticket</dt><dd>0</dd><dt>Fare</dt><dd>0</dd><dt>Embarked</dt><dd>2</dd></dl>\n"
      ],
      "text/latex": [
       "\\begin{description*}\n",
       "\\item[PassengerId] 0\n",
       "\\item[Survived] 0\n",
       "\\item[Pclass] 0\n",
       "\\item[Name] 0\n",
       "\\item[Sex] 0\n",
       "\\item[Age] 177\n",
       "\\item[SibSp] 0\n",
       "\\item[Parch] 0\n",
       "\\item[Ticket] 0\n",
       "\\item[Fare] 0\n",
       "\\item[Embarked] 2\n",
       "\\end{description*}\n"
      ],
      "text/markdown": [
       "PassengerId\n",
       ":   0Survived\n",
       ":   0Pclass\n",
       ":   0Name\n",
       ":   0Sex\n",
       ":   0Age\n",
       ":   177SibSp\n",
       ":   0Parch\n",
       ":   0Ticket\n",
       ":   0Fare\n",
       ":   0Embarked\n",
       ":   2\n",
       "\n"
      ],
      "text/plain": [
       "PassengerId    Survived      Pclass        Name         Sex         Age \n",
       "          0           0           0           0           0         177 \n",
       "      SibSp       Parch      Ticket        Fare    Embarked \n",
       "          0           0           0           0           2 "
      ]
     },
     "metadata": {},
     "output_type": "display_data"
    },
    {
     "name": "stdout",
     "output_type": "stream",
     "text": [
      "Testing data set columns:\n",
      "-------------------------"
     ]
    },
    {
     "data": {
      "text/html": [
       "<style>\n",
       ".dl-inline {width: auto; margin:0; padding: 0}\n",
       ".dl-inline>dt, .dl-inline>dd {float: none; width: auto; display: inline-block}\n",
       ".dl-inline>dt::after {content: \":\\0020\"; padding-right: .5ex}\n",
       ".dl-inline>dt:not(:first-of-type) {padding-left: .5ex}\n",
       "</style><dl class=dl-inline><dt>PassengerId</dt><dd>0</dd><dt>Pclass</dt><dd>0</dd><dt>Name</dt><dd>0</dd><dt>Sex</dt><dd>0</dd><dt>Age</dt><dd>86</dd><dt>SibSp</dt><dd>0</dd><dt>Parch</dt><dd>0</dd><dt>Ticket</dt><dd>0</dd><dt>Fare</dt><dd>1</dd><dt>Embarked</dt><dd>0</dd></dl>\n"
      ],
      "text/latex": [
       "\\begin{description*}\n",
       "\\item[PassengerId] 0\n",
       "\\item[Pclass] 0\n",
       "\\item[Name] 0\n",
       "\\item[Sex] 0\n",
       "\\item[Age] 86\n",
       "\\item[SibSp] 0\n",
       "\\item[Parch] 0\n",
       "\\item[Ticket] 0\n",
       "\\item[Fare] 1\n",
       "\\item[Embarked] 0\n",
       "\\end{description*}\n"
      ],
      "text/markdown": [
       "PassengerId\n",
       ":   0Pclass\n",
       ":   0Name\n",
       ":   0Sex\n",
       ":   0Age\n",
       ":   86SibSp\n",
       ":   0Parch\n",
       ":   0Ticket\n",
       ":   0Fare\n",
       ":   1Embarked\n",
       ":   0\n",
       "\n"
      ],
      "text/plain": [
       "PassengerId      Pclass        Name         Sex         Age       SibSp \n",
       "          0           0           0           0          86           0 \n",
       "      Parch      Ticket        Fare    Embarked \n",
       "          0           0           1           0 "
      ]
     },
     "metadata": {},
     "output_type": "display_data"
    }
   ],
   "source": [
    "# First, let's mutate any empty strings into NA's\n",
    "df_all[df_all == \"\"] <- NA\n",
    "df_train[df_train == \"\"] <- NA\n",
    "df_test[df_test == \"\"] <- NA\n",
    "# And now we can sum the number of NA's in each column\n",
    "cat(\"Missing values in:\\n\\nTraining data set columns:\\n-------------------------\")\n",
    "sapply(df_train, function(x) sum(is.na(x)))\n",
    "cat(\"Testing data set columns:\\n-------------------------\")\n",
    "sapply(df_test, function(x) sum(is.na(x)))"
   ]
  },
  {
   "cell_type": "code",
   "execution_count": 533,
   "metadata": {
    "ExecuteTime": {
     "end_time": "2021-11-14T03:32:10.006028Z",
     "start_time": "2021-11-14T03:32:09.386Z"
    }
   },
   "outputs": [
    {
     "data": {
      "image/png": "[encoded data removed]",
      "text/plain": [
       "Plot with title \"Missingness Map\""
      ]
     },
     "metadata": {
      "image/png": {
       "height": 420,
       "width": 420
      }
     },
     "output_type": "display_data"
    }
   ],
   "source": [
    "missmap(df_all)"
   ]
  },
  {
   "cell_type": "markdown",
   "metadata": {},
   "source": [
    "The brunt of our missing values comes from Age. There's also a few among Embarked and Fare between the two data sets. We want to avoid keeping any of these nulls since they're going to be detrimental to our predictive algorithm. We'll choose how to handle each case based on how it will improve our model's accuracy. For starter's, we'll it keep it simple and attempt to use basic methodologies to replace or remove NA's. Upon reiteration, we can test and see if there is more merit to using any other approach.\n",
    "\n",
    "1. Training data - Embarked: 2 missing values"
   ]
  },
  {
   "cell_type": "code",
   "execution_count": 534,
   "metadata": {
    "ExecuteTime": {
     "end_time": "2021-11-14T03:32:10.037033Z",
     "start_time": "2021-11-14T03:32:09.391Z"
    },
    "scrolled": false
   },
   "outputs": [
    {
     "data": {
      "text/html": [
       "<table class=\"dataframe\">\n",
       "<caption>A data.frame: 2 × 11</caption>\n",
       "<thead>\n",
       "\t<tr><th></th><th scope=col>PassengerId</th><th scope=col>Survived</th><th scope=col>Pclass</th><th scope=col>Name</th><th scope=col>Sex</th><th scope=col>Age</th><th scope=col>SibSp</th><th scope=col>Parch</th><th scope=col>Ticket</th><th scope=col>Fare</th><th scope=col>Embarked</th></tr>\n",
       "\t<tr><th></th><th scope=col>&lt;int&gt;</th><th scope=col>&lt;int&gt;</th><th scope=col>&lt;int&gt;</th><th scope=col>&lt;chr&gt;</th><th scope=col>&lt;chr&gt;</th><th scope=col>&lt;dbl&gt;</th><th scope=col>&lt;int&gt;</th><th scope=col>&lt;int&gt;</th><th scope=col>&lt;chr&gt;</th><th scope=col>&lt;dbl&gt;</th><th scope=col>&lt;chr&gt;</th></tr>\n",
       "</thead>\n",
       "<tbody>\n",
       "\t<tr><th scope=row>62</th><td> 62</td><td>1</td><td>1</td><td>Icard, Miss. Amelie                      </td><td>female</td><td>38</td><td>0</td><td>0</td><td>113572</td><td>80</td><td>NA</td></tr>\n",
       "\t<tr><th scope=row>830</th><td>830</td><td>1</td><td>1</td><td>Stone, Mrs. George Nelson (Martha Evelyn)</td><td>female</td><td>62</td><td>0</td><td>0</td><td>113572</td><td>80</td><td>NA</td></tr>\n",
       "</tbody>\n",
       "</table>\n"
      ],
      "text/latex": [
       "A data.frame: 2 × 11\n",
       "\\begin{tabular}{r|lllllllllll}\n",
       "  & PassengerId & Survived & Pclass & Name & Sex & Age & SibSp & Parch & Ticket & Fare & Embarked\\\\\n",
       "  & <int> & <int> & <int> & <chr> & <chr> & <dbl> & <int> & <int> & <chr> & <dbl> & <chr>\\\\\n",
       "\\hline\n",
       "\t62 &  62 & 1 & 1 & Icard, Miss. Amelie                       & female & 38 & 0 & 0 & 113572 & 80 & NA\\\\\n",
       "\t830 & 830 & 1 & 1 & Stone, Mrs. George Nelson (Martha Evelyn) & female & 62 & 0 & 0 & 113572 & 80 & NA\\\\\n",
       "\\end{tabular}\n"
      ],
      "text/markdown": [
       "\n",
       "A data.frame: 2 × 11\n",
       "\n",
       "| <!--/--> | PassengerId &lt;int&gt; | Survived &lt;int&gt; | Pclass &lt;int&gt; | Name &lt;chr&gt; | Sex &lt;chr&gt; | Age &lt;dbl&gt; | SibSp &lt;int&gt; | Parch &lt;int&gt; | Ticket &lt;chr&gt; | Fare &lt;dbl&gt; | Embarked &lt;chr&gt; |\n",
       "|---|---|---|---|---|---|---|---|---|---|---|---|\n",
       "| 62 |  62 | 1 | 1 | Icard, Miss. Amelie                       | female | 38 | 0 | 0 | 113572 | 80 | NA |\n",
       "| 830 | 830 | 1 | 1 | Stone, Mrs. George Nelson (Martha Evelyn) | female | 62 | 0 | 0 | 113572 | 80 | NA |\n",
       "\n"
      ],
      "text/plain": [
       "    PassengerId Survived Pclass Name                                     \n",
       "62   62         1        1      Icard, Miss. Amelie                      \n",
       "830 830         1        1      Stone, Mrs. George Nelson (Martha Evelyn)\n",
       "    Sex    Age SibSp Parch Ticket Fare Embarked\n",
       "62  female 38  0     0     113572 80   NA      \n",
       "830 female 62  0     0     113572 80   NA      "
      ]
     },
     "metadata": {},
     "output_type": "display_data"
    },
    {
     "name": "stdout",
     "output_type": "stream",
     "text": [
      "Unique values of Embarked: S C Q"
     ]
    }
   ],
   "source": [
    "# select the rows in the training set with NA in embarked\n",
    "df_train[is.na(df_train$Embarked),]\n",
    "\n",
    "# find each unique possible value to embarked\n",
    "cat(\"Unique values of Embarked:\",unique(na.omit(df_all$Embarked)))"
   ]
  },
  {
   "cell_type": "markdown",
   "metadata": {},
   "source": [
    "For the sake of simplicity and assuming that we can't infer the value of Embarked based on other variables, let's assign the most common embarked value among the two sets to the rows above that contain nulls."
   ]
  },
  {
   "cell_type": "code",
   "execution_count": 535,
   "metadata": {
    "ExecuteTime": {
     "end_time": "2021-11-14T03:32:10.068030Z",
     "start_time": "2021-11-14T03:32:09.396Z"
    }
   },
   "outputs": [
    {
     "name": "stdout",
     "output_type": "stream",
     "text": [
      "Mode of Embarked: S"
     ]
    }
   ],
   "source": [
    "# there's no built-in function for mode, so let's use this to find the most common variable value\n",
    "mode <- function(vec) {\n",
    "  unique_vec <- unique(vec)\n",
    "  unique_vec[which.max(tabulate(match(vec, unique_vec)))]\n",
    "}\n",
    "\n",
    "cat(\"Mode of Embarked:\", mode(df_all$Embarked))"
   ]
  },
  {
   "cell_type": "code",
   "execution_count": 536,
   "metadata": {
    "ExecuteTime": {
     "end_time": "2021-11-14T03:32:10.097029Z",
     "start_time": "2021-11-14T03:32:09.401Z"
    }
   },
   "outputs": [],
   "source": [
    "# assign 'S' to replace the NA values of Embarked\n",
    "df_train[is.na(df_train$Embarked), c(\"Embarked\")] <- 'S'\n",
    "df_all[is.na(df_all$Embarked), c(\"Embarked\")] <- 'S'"
   ]
  },
  {
   "cell_type": "markdown",
   "metadata": {},
   "source": [
    "2. Testing data - Fare: 1 missing value"
   ]
  },
  {
   "cell_type": "code",
   "execution_count": 537,
   "metadata": {
    "ExecuteTime": {
     "end_time": "2021-11-14T03:32:10.159029Z",
     "start_time": "2021-11-14T03:32:09.406Z"
    }
   },
   "outputs": [
    {
     "data": {
      "text/html": [
       "<table class=\"dataframe\">\n",
       "<caption>A data.frame: 1 × 10</caption>\n",
       "<thead>\n",
       "\t<tr><th></th><th scope=col>PassengerId</th><th scope=col>Pclass</th><th scope=col>Name</th><th scope=col>Sex</th><th scope=col>Age</th><th scope=col>SibSp</th><th scope=col>Parch</th><th scope=col>Ticket</th><th scope=col>Fare</th><th scope=col>Embarked</th></tr>\n",
       "\t<tr><th></th><th scope=col>&lt;int&gt;</th><th scope=col>&lt;int&gt;</th><th scope=col>&lt;chr&gt;</th><th scope=col>&lt;chr&gt;</th><th scope=col>&lt;dbl&gt;</th><th scope=col>&lt;int&gt;</th><th scope=col>&lt;int&gt;</th><th scope=col>&lt;chr&gt;</th><th scope=col>&lt;dbl&gt;</th><th scope=col>&lt;chr&gt;</th></tr>\n",
       "</thead>\n",
       "<tbody>\n",
       "\t<tr><th scope=row>153</th><td>1044</td><td>3</td><td>Storey, Mr. Thomas</td><td>male</td><td>60.5</td><td>0</td><td>0</td><td>3701</td><td>NA</td><td>S</td></tr>\n",
       "</tbody>\n",
       "</table>\n"
      ],
      "text/latex": [
       "A data.frame: 1 × 10\n",
       "\\begin{tabular}{r|llllllllll}\n",
       "  & PassengerId & Pclass & Name & Sex & Age & SibSp & Parch & Ticket & Fare & Embarked\\\\\n",
       "  & <int> & <int> & <chr> & <chr> & <dbl> & <int> & <int> & <chr> & <dbl> & <chr>\\\\\n",
       "\\hline\n",
       "\t153 & 1044 & 3 & Storey, Mr. Thomas & male & 60.5 & 0 & 0 & 3701 & NA & S\\\\\n",
       "\\end{tabular}\n"
      ],
      "text/markdown": [
       "\n",
       "A data.frame: 1 × 10\n",
       "\n",
       "| <!--/--> | PassengerId &lt;int&gt; | Pclass &lt;int&gt; | Name &lt;chr&gt; | Sex &lt;chr&gt; | Age &lt;dbl&gt; | SibSp &lt;int&gt; | Parch &lt;int&gt; | Ticket &lt;chr&gt; | Fare &lt;dbl&gt; | Embarked &lt;chr&gt; |\n",
       "|---|---|---|---|---|---|---|---|---|---|---|\n",
       "| 153 | 1044 | 3 | Storey, Mr. Thomas | male | 60.5 | 0 | 0 | 3701 | NA | S |\n",
       "\n"
      ],
      "text/plain": [
       "    PassengerId Pclass Name               Sex  Age  SibSp Parch Ticket Fare\n",
       "153 1044        3      Storey, Mr. Thomas male 60.5 0     0     3701   NA  \n",
       "    Embarked\n",
       "153 S       "
      ]
     },
     "metadata": {},
     "output_type": "display_data"
    },
    {
     "data": {
      "text/plain": [
       "   Min. 1st Qu.  Median    Mean 3rd Qu.    Max.    NA's \n",
       "  0.000   7.896  14.454  35.627  31.500 512.329       1 "
      ]
     },
     "metadata": {},
     "output_type": "display_data"
    },
    {
     "data": {
      "image/png": "[encoded data removed]",
      "text/plain": [
       "Plot with title \"Density of Fare\""
      ]
     },
     "metadata": {
      "image/png": {
       "height": 420,
       "width": 420
      }
     },
     "output_type": "display_data"
    }
   ],
   "source": [
    "# select the rows in the training set with NA in Fare\n",
    "df_test[is.na(df_test$Fare),]\n",
    "\n",
    "# let's take a look at the distribution\n",
    "plot(density(na.omit(df_test$Fare)),\n",
    "    main = \"Density of Fare\",\n",
    "    xlab = \"Fare\",\n",
    "    ylab = \"Density\")\n",
    "\n",
    "summary(df_test$Fare)"
   ]
  },
  {
   "cell_type": "markdown",
   "metadata": {
    "ExecuteTime": {
     "end_time": "2021-10-28T20:51:29.361090Z",
     "start_time": "2021-10-28T20:51:29.344Z"
    }
   },
   "source": [
    "Let's use the median to replace the NA"
   ]
  },
  {
   "cell_type": "code",
   "execution_count": 538,
   "metadata": {
    "ExecuteTime": {
     "end_time": "2021-11-14T03:32:10.179028Z",
     "start_time": "2021-11-14T03:32:09.410Z"
    }
   },
   "outputs": [],
   "source": [
    "# assign the median to replace the singular NA value of Fare in the df_test set\n",
    "df_test[is.na(df_test$Fare), c(\"Fare\")] <- median(na.omit(df_test$Fare))\n",
    "df_all[is.na(df_all$Fare), c(\"Fare\")] <- median(na.omit(df_all$Fare))"
   ]
  },
  {
   "cell_type": "markdown",
   "metadata": {},
   "source": [
    "3. Both sets - Age: 263 missing values between the two sets"
   ]
  },
  {
   "cell_type": "code",
   "execution_count": 539,
   "metadata": {
    "ExecuteTime": {
     "end_time": "2021-11-14T03:32:10.233028Z",
     "start_time": "2021-11-14T03:32:09.415Z"
    }
   },
   "outputs": [
    {
     "data": {
      "text/plain": [
       "   Min. 1st Qu.  Median    Mean 3rd Qu.    Max.    NA's \n",
       "   0.17   21.00   28.00   29.88   39.00   80.00     263 "
      ]
     },
     "metadata": {},
     "output_type": "display_data"
    },
    {
     "data": {
      "image/png": "[encoded data removed]",
      "text/plain": [
       "Plot with title \"Density of Age\""
      ]
     },
     "metadata": {
      "image/png": {
       "height": 420,
       "width": 420
      }
     },
     "output_type": "display_data"
    }
   ],
   "source": [
    "# let's take a look at the distribution in both sets\n",
    "plot(density(na.omit(df_all$Age)),\n",
    "    main = \"Density of Age\",\n",
    "    xlab = \"Age\",\n",
    "    ylab = \"Density\")\n",
    "\n",
    "summary(df_all$Age)"
   ]
  },
  {
   "cell_type": "markdown",
   "metadata": {},
   "source": [
    "Again, let's use the median to replace these NA's"
   ]
  },
  {
   "cell_type": "code",
   "execution_count": 540,
   "metadata": {
    "ExecuteTime": {
     "end_time": "2021-11-14T03:32:10.259059Z",
     "start_time": "2021-11-14T03:32:09.419Z"
    }
   },
   "outputs": [],
   "source": [
    "# assign the median to replace the NA values of Age in both sets\n",
    "df_test[is.na(df_test$Age), c(\"Age\")] <- median(na.omit(df_all$Age))\n",
    "df_train[is.na(df_train$Age), c(\"Age\")] <- median(na.omit(df_all$Age))\n",
    "df_all[is.na(df_all$Age), c(\"Age\")] <- median(na.omit(df_all$Age))"
   ]
  },
  {
   "cell_type": "markdown",
   "metadata": {},
   "source": [
    "<b>3. Data Wrangling - Feature engineering</b>\n",
    "\n",
    "There are several features that can be engineered which stand out as potentially meaningful.\n",
    "\n",
    "<ul>1. Accompanied </ul>\n",
    "\n",
    "Parch and SibSp tell us the number of relatives a passenger has on board with them. It's arguably important to differentiate individuals with or without accompaniment as a crucial factor towards death or survival in our algorithm.\n",
    "\n",
    "<ul>2. Prefix </ul>\n",
    "\n",
    "A lot of information can be garnered from a passenger's prefix. For females, we can discern if they are married (Mrs.) or not (Miss.). Men of some status may also have the prefix \"Master.\" or \"Don.\" attributed to them, while others simply have the general \"Mr.\" prefix. We need to consider the level of influence these backgrounds have on a passenger's chance of survival.\n",
    "\n",
    "<ul>3. FamilySize </ul>\n",
    "\n",
    "Another important factor is the size of each passenger's family on board. This considers the impact of SipSp and Parch together on a passenger's fate."
   ]
  },
  {
   "cell_type": "code",
   "execution_count": 541,
   "metadata": {
    "ExecuteTime": {
     "end_time": "2021-11-14T03:32:10.294029Z",
     "start_time": "2021-11-14T03:32:09.424Z"
    },
    "hide_input": false,
    "scrolled": true
   },
   "outputs": [
    {
     "data": {
      "text/html": [
       "<table class=\"dataframe\">\n",
       "<caption>A data.frame: 18 × 2</caption>\n",
       "<thead>\n",
       "\t<tr><th scope=col>Prefixes</th><th scope=col>n</th></tr>\n",
       "\t<tr><th scope=col>&lt;chr&gt;</th><th scope=col>&lt;int&gt;</th></tr>\n",
       "</thead>\n",
       "<tbody>\n",
       "\t<tr><td>Capt                    </td><td>  1</td></tr>\n",
       "\t<tr><td>Col                     </td><td>  2</td></tr>\n",
       "\t<tr><td>Don                     </td><td>  1</td></tr>\n",
       "\t<tr><td>Dr                      </td><td>  7</td></tr>\n",
       "\t<tr><td>Jonkheer                </td><td>  1</td></tr>\n",
       "\t<tr><td>Lady                    </td><td>  1</td></tr>\n",
       "\t<tr><td>Major                   </td><td>  2</td></tr>\n",
       "\t<tr><td>Master                  </td><td> 40</td></tr>\n",
       "\t<tr><td>Miss                    </td><td>182</td></tr>\n",
       "\t<tr><td>Mlle                    </td><td>  2</td></tr>\n",
       "\t<tr><td>Mme                     </td><td>  1</td></tr>\n",
       "\t<tr><td>Mr                      </td><td>517</td></tr>\n",
       "\t<tr><td>Mrs                     </td><td>124</td></tr>\n",
       "\t<tr><td>Mrs. Martin (Elizabeth L</td><td>  1</td></tr>\n",
       "\t<tr><td>Ms                      </td><td>  1</td></tr>\n",
       "\t<tr><td>Rev                     </td><td>  6</td></tr>\n",
       "\t<tr><td>Sir                     </td><td>  1</td></tr>\n",
       "\t<tr><td>the Countess            </td><td>  1</td></tr>\n",
       "</tbody>\n",
       "</table>\n"
      ],
      "text/latex": [
       "A data.frame: 18 × 2\n",
       "\\begin{tabular}{ll}\n",
       " Prefixes & n\\\\\n",
       " <chr> & <int>\\\\\n",
       "\\hline\n",
       "\t Capt                     &   1\\\\\n",
       "\t Col                      &   2\\\\\n",
       "\t Don                      &   1\\\\\n",
       "\t Dr                       &   7\\\\\n",
       "\t Jonkheer                 &   1\\\\\n",
       "\t Lady                     &   1\\\\\n",
       "\t Major                    &   2\\\\\n",
       "\t Master                   &  40\\\\\n",
       "\t Miss                     & 182\\\\\n",
       "\t Mlle                     &   2\\\\\n",
       "\t Mme                      &   1\\\\\n",
       "\t Mr                       & 517\\\\\n",
       "\t Mrs                      & 124\\\\\n",
       "\t Mrs. Martin (Elizabeth L &   1\\\\\n",
       "\t Ms                       &   1\\\\\n",
       "\t Rev                      &   6\\\\\n",
       "\t Sir                      &   1\\\\\n",
       "\t the Countess             &   1\\\\\n",
       "\\end{tabular}\n"
      ],
      "text/markdown": [
       "\n",
       "A data.frame: 18 × 2\n",
       "\n",
       "| Prefixes &lt;chr&gt; | n &lt;int&gt; |\n",
       "|---|---|\n",
       "| Capt                     |   1 |\n",
       "| Col                      |   2 |\n",
       "| Don                      |   1 |\n",
       "| Dr                       |   7 |\n",
       "| Jonkheer                 |   1 |\n",
       "| Lady                     |   1 |\n",
       "| Major                    |   2 |\n",
       "| Master                   |  40 |\n",
       "| Miss                     | 182 |\n",
       "| Mlle                     |   2 |\n",
       "| Mme                      |   1 |\n",
       "| Mr                       | 517 |\n",
       "| Mrs                      | 124 |\n",
       "| Mrs. Martin (Elizabeth L |   1 |\n",
       "| Ms                       |   1 |\n",
       "| Rev                      |   6 |\n",
       "| Sir                      |   1 |\n",
       "| the Countess             |   1 |\n",
       "\n"
      ],
      "text/plain": [
       "   Prefixes                 n  \n",
       "1  Capt                       1\n",
       "2  Col                        2\n",
       "3  Don                        1\n",
       "4  Dr                         7\n",
       "5  Jonkheer                   1\n",
       "6  Lady                       1\n",
       "7  Major                      2\n",
       "8  Master                    40\n",
       "9  Miss                     182\n",
       "10 Mlle                       2\n",
       "11 Mme                        1\n",
       "12 Mr                       517\n",
       "13 Mrs                      124\n",
       "14 Mrs. Martin (Elizabeth L   1\n",
       "15 Ms                         1\n",
       "16 Rev                        6\n",
       "17 Sir                        1\n",
       "18 the Countess               1"
      ]
     },
     "metadata": {},
     "output_type": "display_data"
    }
   ],
   "source": [
    "# Let's begin with seting up our prefixes\n",
    "\n",
    "# extract prefixes \n",
    "df_train$Prefixes <- str_extract(df_train$Name,\"(?<=, ).+(?=\\\\.)\")\n",
    "\n",
    "# Let's get a sense of the frequencies to see if there are errors or outliers\n",
    "df_train %>% count(Prefixes)"
   ]
  },
  {
   "cell_type": "markdown",
   "metadata": {},
   "source": [
    "This list requires a little bit of cleaning and further categorization, so let's take care of the following issues:\n",
    "\n",
    "\n",
    "<ul>1. \"Mme\", \"Ms\"/\"Mlle\" are the French prefixes for Madame (Mrs) and Mademoiselle (Miss), let's convert them into their English equivalents</ul>\n",
    "<ul>2. Mrs. Martin's prefix was not extracted correctly since she had two full stops in her name due to a shortened middle name. Let's change that cell to be \"Mrs\"</ul>\n",
    "<ul>3. Jonkheer is a Dutch honorific of female nobility, we'll bin that into a category called Nobility</ul>\n",
    "<ul>4. Countess, Lady and Don are also titles of nobility - they presumingly belong to the nobility category</ul>\n",
    "<ul>5. Capt, Col and Major are all titles that indicate various levels of rank in the military, we'll bin these into a category called Military</ul>\n",
    "<ul>6. Sir is not considered an order of nobility, but is an honor given to a man who has been of exceptional service to a nation. Since there aren't any other passengers with the same title and there aren't any notable suitable categories associated with the background of the title, we'll tag him as a \"Mr\".</ul>"
   ]
  },
  {
   "cell_type": "code",
   "execution_count": 542,
   "metadata": {
    "ExecuteTime": {
     "end_time": "2021-11-14T03:32:10.329030Z",
     "start_time": "2021-11-14T03:32:09.428Z"
    },
    "run_control": {
     "marked": true
    }
   },
   "outputs": [
    {
     "data": {
      "text/html": [
       "<table class=\"dataframe\">\n",
       "<caption>A data.frame: 8 × 2</caption>\n",
       "<thead>\n",
       "\t<tr><th scope=col>Prefixes</th><th scope=col>n</th></tr>\n",
       "\t<tr><th scope=col>&lt;chr&gt;</th><th scope=col>&lt;int&gt;</th></tr>\n",
       "</thead>\n",
       "<tbody>\n",
       "\t<tr><td>Dr     </td><td>  7</td></tr>\n",
       "\t<tr><td>Master </td><td> 40</td></tr>\n",
       "\t<tr><td>Miss   </td><td>185</td></tr>\n",
       "\t<tr><td>Mr     </td><td>518</td></tr>\n",
       "\t<tr><td>Mrs    </td><td>126</td></tr>\n",
       "\t<tr><td>Noble  </td><td>  4</td></tr>\n",
       "\t<tr><td>Officer</td><td>  5</td></tr>\n",
       "\t<tr><td>Rev    </td><td>  6</td></tr>\n",
       "</tbody>\n",
       "</table>\n"
      ],
      "text/latex": [
       "A data.frame: 8 × 2\n",
       "\\begin{tabular}{ll}\n",
       " Prefixes & n\\\\\n",
       " <chr> & <int>\\\\\n",
       "\\hline\n",
       "\t Dr      &   7\\\\\n",
       "\t Master  &  40\\\\\n",
       "\t Miss    & 185\\\\\n",
       "\t Mr      & 518\\\\\n",
       "\t Mrs     & 126\\\\\n",
       "\t Noble   &   4\\\\\n",
       "\t Officer &   5\\\\\n",
       "\t Rev     &   6\\\\\n",
       "\\end{tabular}\n"
      ],
      "text/markdown": [
       "\n",
       "A data.frame: 8 × 2\n",
       "\n",
       "| Prefixes &lt;chr&gt; | n &lt;int&gt; |\n",
       "|---|---|\n",
       "| Dr      |   7 |\n",
       "| Master  |  40 |\n",
       "| Miss    | 185 |\n",
       "| Mr      | 518 |\n",
       "| Mrs     | 126 |\n",
       "| Noble   |   4 |\n",
       "| Officer |   5 |\n",
       "| Rev     |   6 |\n",
       "\n"
      ],
      "text/plain": [
       "  Prefixes n  \n",
       "1 Dr         7\n",
       "2 Master    40\n",
       "3 Miss     185\n",
       "4 Mr       518\n",
       "5 Mrs      126\n",
       "6 Noble      4\n",
       "7 Officer    5\n",
       "8 Rev        6"
      ]
     },
     "metadata": {},
     "output_type": "display_data"
    }
   ],
   "source": [
    "# fixing the french prefixes to english\n",
    "df_train$Prefixes[df_train$Prefixes == \"Mme\"] <- \"Mrs\"\n",
    "df_train$Prefixes[df_train$Prefixes == \"Ms\" | df_train$Prefixes == \"Mlle\"] <- \"Miss\"\n",
    "\n",
    "# replacing Mrs. Martin (Elizabeth L with Mrs\n",
    "df_train$Prefixes[df_train$Prefixes == \"Mrs. Martin (Elizabeth L\"] <- \"Mrs\"\n",
    "\n",
    "# categorizing noble titles\n",
    "nobles <- df_train$Prefixes == \"Jonkheer\" | df_train$Prefixes == \"the Countess\" | df_train$Prefixes == \"Lady\" | df_train$Prefixes == \"Don\"  \n",
    "df_train$Prefixes[nobles] <- \"Noble\"\n",
    "\n",
    "# replacing Sir with Mr\n",
    "df_train$Prefixes[df_train$Prefixes == \"Sir\"] <- \"Mr\"\n",
    "\n",
    "# categorizing military officers\n",
    "military <- df_train$Prefixes == \"Major\" | df_train$Prefixes == \"Col\" | df_train$Prefixes == \"Capt\"\n",
    "df_train$Prefixes[military] <- \"Officer\"\n",
    "\n",
    "# let's check the frequencies again to see if everything lines up\n",
    "df_train %>% count(Prefixes)"
   ]
  },
  {
   "cell_type": "code",
   "execution_count": 543,
   "metadata": {
    "ExecuteTime": {
     "end_time": "2021-11-14T03:32:10.369029Z",
     "start_time": "2021-11-14T03:32:09.432Z"
    }
   },
   "outputs": [
    {
     "data": {
      "text/html": [
       "<table class=\"dataframe\">\n",
       "<caption>A data.frame: 9 × 2</caption>\n",
       "<thead>\n",
       "\t<tr><th scope=col>FamilySize</th><th scope=col>n</th></tr>\n",
       "\t<tr><th scope=col>&lt;int&gt;</th><th scope=col>&lt;int&gt;</th></tr>\n",
       "</thead>\n",
       "<tbody>\n",
       "\t<tr><td> 0</td><td>537</td></tr>\n",
       "\t<tr><td> 1</td><td>161</td></tr>\n",
       "\t<tr><td> 2</td><td>102</td></tr>\n",
       "\t<tr><td> 3</td><td> 29</td></tr>\n",
       "\t<tr><td> 4</td><td> 15</td></tr>\n",
       "\t<tr><td> 5</td><td> 22</td></tr>\n",
       "\t<tr><td> 6</td><td> 12</td></tr>\n",
       "\t<tr><td> 7</td><td>  6</td></tr>\n",
       "\t<tr><td>10</td><td>  7</td></tr>\n",
       "</tbody>\n",
       "</table>\n"
      ],
      "text/latex": [
       "A data.frame: 9 × 2\n",
       "\\begin{tabular}{ll}\n",
       " FamilySize & n\\\\\n",
       " <int> & <int>\\\\\n",
       "\\hline\n",
       "\t  0 & 537\\\\\n",
       "\t  1 & 161\\\\\n",
       "\t  2 & 102\\\\\n",
       "\t  3 &  29\\\\\n",
       "\t  4 &  15\\\\\n",
       "\t  5 &  22\\\\\n",
       "\t  6 &  12\\\\\n",
       "\t  7 &   6\\\\\n",
       "\t 10 &   7\\\\\n",
       "\\end{tabular}\n"
      ],
      "text/markdown": [
       "\n",
       "A data.frame: 9 × 2\n",
       "\n",
       "| FamilySize &lt;int&gt; | n &lt;int&gt; |\n",
       "|---|---|\n",
       "|  0 | 537 |\n",
       "|  1 | 161 |\n",
       "|  2 | 102 |\n",
       "|  3 |  29 |\n",
       "|  4 |  15 |\n",
       "|  5 |  22 |\n",
       "|  6 |  12 |\n",
       "|  7 |   6 |\n",
       "| 10 |   7 |\n",
       "\n"
      ],
      "text/plain": [
       "  FamilySize n  \n",
       "1  0         537\n",
       "2  1         161\n",
       "3  2         102\n",
       "4  3          29\n",
       "5  4          15\n",
       "6  5          22\n",
       "7  6          12\n",
       "8  7           6\n",
       "9 10           7"
      ]
     },
     "metadata": {},
     "output_type": "display_data"
    },
    {
     "data": {
      "text/html": [
       "<table class=\"dataframe\">\n",
       "<caption>A data.frame: 2 × 2</caption>\n",
       "<thead>\n",
       "\t<tr><th scope=col>Accompanied</th><th scope=col>n</th></tr>\n",
       "\t<tr><th scope=col>&lt;dbl&gt;</th><th scope=col>&lt;int&gt;</th></tr>\n",
       "</thead>\n",
       "<tbody>\n",
       "\t<tr><td>0</td><td>537</td></tr>\n",
       "\t<tr><td>1</td><td>354</td></tr>\n",
       "</tbody>\n",
       "</table>\n"
      ],
      "text/latex": [
       "A data.frame: 2 × 2\n",
       "\\begin{tabular}{ll}\n",
       " Accompanied & n\\\\\n",
       " <dbl> & <int>\\\\\n",
       "\\hline\n",
       "\t 0 & 537\\\\\n",
       "\t 1 & 354\\\\\n",
       "\\end{tabular}\n"
      ],
      "text/markdown": [
       "\n",
       "A data.frame: 2 × 2\n",
       "\n",
       "| Accompanied &lt;dbl&gt; | n &lt;int&gt; |\n",
       "|---|---|\n",
       "| 0 | 537 |\n",
       "| 1 | 354 |\n",
       "\n"
      ],
      "text/plain": [
       "  Accompanied n  \n",
       "1 0           537\n",
       "2 1           354"
      ]
     },
     "metadata": {},
     "output_type": "display_data"
    }
   ],
   "source": [
    "# Now let's do the familysize column\n",
    "df_train$FamilySize <- df_train$SibSp + df_train$Parch\n",
    "\n",
    "# let's check the frequencies\n",
    "df_train %>% count(FamilySize)\n",
    "\n",
    "# and finally, the accompanied column\n",
    "df_train <- df_train %>%\n",
    "  mutate(Accompanied = \n",
    "         case_when(FamilySize > 0 ~ 1,\n",
    "                   FamilySize == 0 ~ 0)\n",
    "  )\n",
    "\n",
    "# let's check the frequencies\n",
    "df_train %>% count(Accompanied)"
   ]
  },
  {
   "cell_type": "markdown",
   "metadata": {},
   "source": [
    "4. Data Wrangling - Discrete Binning\n",
    "\n",
    "Let's turn the continuous variables 'Age' and 'Fare' into bins to make them compatible to future modeling"
   ]
  },
  {
   "cell_type": "code",
   "execution_count": 544,
   "metadata": {
    "ExecuteTime": {
     "end_time": "2021-11-14T03:32:10.401027Z",
     "start_time": "2021-11-14T03:32:09.436Z"
    }
   },
   "outputs": [
    {
     "data": {
      "text/html": [
       "<table class=\"dataframe\">\n",
       "<caption>A data.frame: 7 × 2</caption>\n",
       "<thead>\n",
       "\t<tr><th scope=col>AgeBins</th><th scope=col>n</th></tr>\n",
       "\t<tr><th scope=col>&lt;fct&gt;</th><th scope=col>&lt;int&gt;</th></tr>\n",
       "</thead>\n",
       "<tbody>\n",
       "\t<tr><td>Infant     </td><td> 24</td></tr>\n",
       "\t<tr><td>Toddler    </td><td> 20</td></tr>\n",
       "\t<tr><td>Child      </td><td> 27</td></tr>\n",
       "\t<tr><td>Teen       </td><td>108</td></tr>\n",
       "\t<tr><td>Young Adult</td><td>495</td></tr>\n",
       "\t<tr><td>Adult      </td><td>195</td></tr>\n",
       "\t<tr><td>Senior     </td><td> 22</td></tr>\n",
       "</tbody>\n",
       "</table>\n"
      ],
      "text/latex": [
       "A data.frame: 7 × 2\n",
       "\\begin{tabular}{ll}\n",
       " AgeBins & n\\\\\n",
       " <fct> & <int>\\\\\n",
       "\\hline\n",
       "\t Infant      &  24\\\\\n",
       "\t Toddler     &  20\\\\\n",
       "\t Child       &  27\\\\\n",
       "\t Teen        & 108\\\\\n",
       "\t Young Adult & 495\\\\\n",
       "\t Adult       & 195\\\\\n",
       "\t Senior      &  22\\\\\n",
       "\\end{tabular}\n"
      ],
      "text/markdown": [
       "\n",
       "A data.frame: 7 × 2\n",
       "\n",
       "| AgeBins &lt;fct&gt; | n &lt;int&gt; |\n",
       "|---|---|\n",
       "| Infant      |  24 |\n",
       "| Toddler     |  20 |\n",
       "| Child       |  27 |\n",
       "| Teen        | 108 |\n",
       "| Young Adult | 495 |\n",
       "| Adult       | 195 |\n",
       "| Senior      |  22 |\n",
       "\n"
      ],
      "text/plain": [
       "  AgeBins     n  \n",
       "1 Infant       24\n",
       "2 Toddler      20\n",
       "3 Child        27\n",
       "4 Teen        108\n",
       "5 Young Adult 495\n",
       "6 Adult       195\n",
       "7 Senior       22"
      ]
     },
     "metadata": {},
     "output_type": "display_data"
    }
   ],
   "source": [
    "# Starting with Age\n",
    "\n",
    "# Let's do the binning by the stages of life\n",
    "\n",
    "# Infant = (0, 2] years\n",
    "# Toddler = (2, 5] years\n",
    "# Child = (5, 13] years\n",
    "# Teen = (13, 20] years\n",
    "# Young Adult = (20, 35] years\n",
    "# Adult = (35, 60] years\n",
    "# Senior = (60, ~100] years \n",
    "\n",
    "intervals <- c(0, 2, 5, 13, 20, 35, 60, 100)\n",
    "interval_names <- c(\"Infant\", \"Toddler\", \"Child\", \"Teen\", \"Young Adult\", \"Adult\", \"Senior\")\n",
    "\n",
    "df_train$AgeBins <- cut(df_train$Age, breaks = intervals, labels = interval_names)\n",
    "\n",
    "# let's check the frequencies\n",
    "df_train %>% count(AgeBins)"
   ]
  },
  {
   "cell_type": "code",
   "execution_count": 545,
   "metadata": {
    "ExecuteTime": {
     "end_time": "2021-11-14T03:32:10.429028Z",
     "start_time": "2021-11-14T03:32:09.440Z"
    },
    "scrolled": true
   },
   "outputs": [
    {
     "data": {
      "text/html": [
       "<table class=\"dataframe\">\n",
       "<caption>A data.frame: 15 × 2</caption>\n",
       "<thead>\n",
       "\t<tr><th scope=col>FareBins</th><th scope=col>n</th></tr>\n",
       "\t<tr><th scope=col>&lt;fct&gt;</th><th scope=col>&lt;int&gt;</th></tr>\n",
       "</thead>\n",
       "<tbody>\n",
       "\t<tr><td>[-0.512,17.1]</td><td>496</td></tr>\n",
       "\t<tr><td>(17.1,34.2]  </td><td>191</td></tr>\n",
       "\t<tr><td>(34.2,51.2]  </td><td> 45</td></tr>\n",
       "\t<tr><td>(51.2,68.3]  </td><td> 45</td></tr>\n",
       "\t<tr><td>(68.3,85.4]  </td><td> 48</td></tr>\n",
       "\t<tr><td>(85.4,102]   </td><td> 13</td></tr>\n",
       "\t<tr><td>(102,120]    </td><td> 11</td></tr>\n",
       "\t<tr><td>(120,137]    </td><td> 11</td></tr>\n",
       "\t<tr><td>(137,154]    </td><td>  9</td></tr>\n",
       "\t<tr><td>(154,171]    </td><td>  2</td></tr>\n",
       "\t<tr><td>(205,222]    </td><td>  5</td></tr>\n",
       "\t<tr><td>(222,239]    </td><td>  4</td></tr>\n",
       "\t<tr><td>(239,256]    </td><td>  2</td></tr>\n",
       "\t<tr><td>(256,273]    </td><td>  6</td></tr>\n",
       "\t<tr><td>(495,513]    </td><td>  3</td></tr>\n",
       "</tbody>\n",
       "</table>\n"
      ],
      "text/latex": [
       "A data.frame: 15 × 2\n",
       "\\begin{tabular}{ll}\n",
       " FareBins & n\\\\\n",
       " <fct> & <int>\\\\\n",
       "\\hline\n",
       "\t {[}-0.512,17.1{]} & 496\\\\\n",
       "\t (17.1,34.2{]}   & 191\\\\\n",
       "\t (34.2,51.2{]}   &  45\\\\\n",
       "\t (51.2,68.3{]}   &  45\\\\\n",
       "\t (68.3,85.4{]}   &  48\\\\\n",
       "\t (85.4,102{]}    &  13\\\\\n",
       "\t (102,120{]}     &  11\\\\\n",
       "\t (120,137{]}     &  11\\\\\n",
       "\t (137,154{]}     &   9\\\\\n",
       "\t (154,171{]}     &   2\\\\\n",
       "\t (205,222{]}     &   5\\\\\n",
       "\t (222,239{]}     &   4\\\\\n",
       "\t (239,256{]}     &   2\\\\\n",
       "\t (256,273{]}     &   6\\\\\n",
       "\t (495,513{]}     &   3\\\\\n",
       "\\end{tabular}\n"
      ],
      "text/markdown": [
       "\n",
       "A data.frame: 15 × 2\n",
       "\n",
       "| FareBins &lt;fct&gt; | n &lt;int&gt; |\n",
       "|---|---|\n",
       "| [-0.512,17.1] | 496 |\n",
       "| (17.1,34.2]   | 191 |\n",
       "| (34.2,51.2]   |  45 |\n",
       "| (51.2,68.3]   |  45 |\n",
       "| (68.3,85.4]   |  48 |\n",
       "| (85.4,102]    |  13 |\n",
       "| (102,120]     |  11 |\n",
       "| (120,137]     |  11 |\n",
       "| (137,154]     |   9 |\n",
       "| (154,171]     |   2 |\n",
       "| (205,222]     |   5 |\n",
       "| (222,239]     |   4 |\n",
       "| (239,256]     |   2 |\n",
       "| (256,273]     |   6 |\n",
       "| (495,513]     |   3 |\n",
       "\n"
      ],
      "text/plain": [
       "   FareBins      n  \n",
       "1  [-0.512,17.1] 496\n",
       "2  (17.1,34.2]   191\n",
       "3  (34.2,51.2]    45\n",
       "4  (51.2,68.3]    45\n",
       "5  (68.3,85.4]    48\n",
       "6  (85.4,102]     13\n",
       "7  (102,120]      11\n",
       "8  (120,137]      11\n",
       "9  (137,154]       9\n",
       "10 (154,171]       2\n",
       "11 (205,222]       5\n",
       "12 (222,239]       4\n",
       "13 (239,256]       2\n",
       "14 (256,273]       6\n",
       "15 (495,513]       3"
      ]
     },
     "metadata": {},
     "output_type": "display_data"
    }
   ],
   "source": [
    "# and now Fare\n",
    "n_bins <- round(sqrt(length(df_train$Fare)))\n",
    "df_train$FareBins <- cut(df_train$Fare, breaks = n_bins, include.lowest = TRUE)\n",
    "\n",
    "# let's check the frequencies\n",
    "df_train %>% count(FareBins)"
   ]
  },
  {
   "cell_type": "code",
   "execution_count": 546,
   "metadata": {
    "ExecuteTime": {
     "end_time": "2021-11-14T03:32:10.445029Z",
     "start_time": "2021-11-14T03:32:09.443Z"
    }
   },
   "outputs": [],
   "source": [
    "#### REVISIT TO ENHANCE EFFICIENCY ABOVE ############################################################################\n",
    "\n",
    "### CATEGORIZATION OCCURS AT CSV_READ ###\n",
    "\n",
    "# let's include the variables above in our dataframes \n",
    "\n",
    "# df_train2 <- df_train\n",
    "# df_test2 <- df_test\n",
    "# datasets <- list(df_train2, df_test2)\n",
    "\n",
    "# for df in datasets{\n",
    "#     df['FamilySize'] <- 1 + df['SibSp'] + df['Parch'] \n",
    "#     df['Accompanied'] <- ifelse(df['FamilySize'] == 1, 0, 1)\n",
    "#     df['Prefix']\n",
    "# }\n",
    "# df_train2['FamilySize'] <- \n",
    "# df_train2['Accompanied'] <- 1\n",
    "\n",
    "####################################################################################################################"
   ]
  },
  {
   "cell_type": "code",
   "execution_count": 547,
   "metadata": {
    "ExecuteTime": {
     "end_time": "2021-11-14T03:32:10.465029Z",
     "start_time": "2021-11-14T03:32:09.446Z"
    },
    "scrolled": true
   },
   "outputs": [
    {
     "data": {
      "text/html": [
       "<style>\n",
       ".list-inline {list-style: none; margin:0; padding: 0}\n",
       ".list-inline>li {display: inline-block}\n",
       ".list-inline>li:not(:last-child)::after {content: \"\\00b7\"; padding: 0 .5ex}\n",
       "</style>\n",
       "<ol class=list-inline><li>'PassengerId'</li><li>'Survived'</li><li>'Pclass'</li><li>'Name'</li><li>'Sex'</li><li>'Age'</li><li>'SibSp'</li><li>'Parch'</li><li>'Ticket'</li><li>'Fare'</li><li>'Embarked'</li><li>'Prefixes'</li><li>'FamilySize'</li><li>'Accompanied'</li><li>'AgeBins'</li><li>'FareBins'</li></ol>\n"
      ],
      "text/latex": [
       "\\begin{enumerate*}\n",
       "\\item 'PassengerId'\n",
       "\\item 'Survived'\n",
       "\\item 'Pclass'\n",
       "\\item 'Name'\n",
       "\\item 'Sex'\n",
       "\\item 'Age'\n",
       "\\item 'SibSp'\n",
       "\\item 'Parch'\n",
       "\\item 'Ticket'\n",
       "\\item 'Fare'\n",
       "\\item 'Embarked'\n",
       "\\item 'Prefixes'\n",
       "\\item 'FamilySize'\n",
       "\\item 'Accompanied'\n",
       "\\item 'AgeBins'\n",
       "\\item 'FareBins'\n",
       "\\end{enumerate*}\n"
      ],
      "text/markdown": [
       "1. 'PassengerId'\n",
       "2. 'Survived'\n",
       "3. 'Pclass'\n",
       "4. 'Name'\n",
       "5. 'Sex'\n",
       "6. 'Age'\n",
       "7. 'SibSp'\n",
       "8. 'Parch'\n",
       "9. 'Ticket'\n",
       "10. 'Fare'\n",
       "11. 'Embarked'\n",
       "12. 'Prefixes'\n",
       "13. 'FamilySize'\n",
       "14. 'Accompanied'\n",
       "15. 'AgeBins'\n",
       "16. 'FareBins'\n",
       "\n",
       "\n"
      ],
      "text/plain": [
       " [1] \"PassengerId\" \"Survived\"    \"Pclass\"      \"Name\"        \"Sex\"        \n",
       " [6] \"Age\"         \"SibSp\"       \"Parch\"       \"Ticket\"      \"Fare\"       \n",
       "[11] \"Embarked\"    \"Prefixes\"    \"FamilySize\"  \"Accompanied\" \"AgeBins\"    \n",
       "[16] \"FareBins\"   "
      ]
     },
     "metadata": {},
     "output_type": "display_data"
    }
   ],
   "source": [
    "colnames(df_train)"
   ]
  },
  {
   "cell_type": "markdown",
   "metadata": {},
   "source": [
    "Lets convert our desired columns into dummies and drop what won't be in the final equation\n",
    "\n",
    "<b> Y = Survival </b> \n",
    "\n",
    "X = Pclass dummies, Sex dummies, SibSp, Parch, Fare dummies, Embarked dummies, FamilySize, Prefixes dummies, AgeBins dummies, FareBins dummies, Accompanied dummies"
   ]
  },
  {
   "cell_type": "code",
   "execution_count": 548,
   "metadata": {
    "ExecuteTime": {
     "end_time": "2021-11-14T03:32:10.491059Z",
     "start_time": "2021-11-14T03:32:09.450Z"
    }
   },
   "outputs": [],
   "source": [
    "# drop irrelevant columns\n",
    "train_X <- subset(df_train, select = -c(PassengerId, Name, Fare, Age, Ticket))\n",
    "\n",
    "# get our dummies set up \n",
    "train_X <- dummy_cols(train_X,\n",
    "                      select_columns = c('Sex', 'Embarked', 'Pclass', 'Embarked', 'Accompanied', 'AgeBins', 'FareBins'),\n",
    "                      remove_selected_columns = TRUE,\n",
    "                     )"
   ]
  },
  {
   "attachments": {
    "image.png": {
     "image/png": "[encoded data removed]"
    }
   },
   "cell_type": "markdown",
   "metadata": {},
   "source": [
    "# Model\n",
    "\n",
    "## Apply the correct algorithm(s) that fulfill the objectives of the project\n",
    "\n",
    "Let's keep things simple and use <a href=\"https://en.wikipedia.org/wiki/Logistic_regression\">logistic regression</a> to model the probability of survival.\n",
    "\n",
    "![image.png](attachment:image.png)\n",
    "\n",
    "where Pr(Survived = Alive|Dead)\n",
    "\n",
    "## Train and test "
   ]
  },
  {
   "cell_type": "code",
   "execution_count": 549,
   "metadata": {
    "ExecuteTime": {
     "end_time": "2021-11-14T03:32:10.506032Z",
     "start_time": "2021-11-14T03:32:09.454Z"
    }
   },
   "outputs": [],
   "source": [
    "# df_train <- subset(df_train, select = -c(PassengerId, Name, Age, Fare, Ticket))"
   ]
  },
  {
   "cell_type": "code",
   "execution_count": 550,
   "metadata": {
    "ExecuteTime": {
     "end_time": "2021-11-14T03:32:10.524029Z",
     "start_time": "2021-11-14T03:32:09.458Z"
    }
   },
   "outputs": [],
   "source": [
    "# sapply(df_train, class)"
   ]
  },
  {
   "cell_type": "code",
   "execution_count": 551,
   "metadata": {
    "ExecuteTime": {
     "end_time": "2021-11-14T03:32:10.540059Z",
     "start_time": "2021-11-14T03:32:09.461Z"
    }
   },
   "outputs": [],
   "source": [
    "# for (col in c(\"Pclass\", \"Sex\", \"Embarked\", \"Prefixes\", \"Accompanied\")){\n",
    "#     df_train[col] <- as.factor(df_train[col])\n",
    "# }"
   ]
  },
  {
   "cell_type": "code",
   "execution_count": 552,
   "metadata": {
    "ExecuteTime": {
     "end_time": "2021-11-14T03:32:10.556030Z",
     "start_time": "2021-11-14T03:32:09.464Z"
    }
   },
   "outputs": [],
   "source": [
    "# contrasts(df_train$Pclass)"
   ]
  },
  {
   "cell_type": "code",
   "execution_count": 553,
   "metadata": {
    "ExecuteTime": {
     "end_time": "2021-11-14T03:32:43.189028Z",
     "start_time": "2021-11-14T03:32:12.536Z"
    }
   },
   "outputs": [
    {
     "data": {
      "text/plain": [
       "\n",
       "Call:\n",
       "glm(formula = Survived ~ ., family = binomial(link = \"logit\"), \n",
       "    data = train_X)\n",
       "\n",
       "Deviance Residuals: \n",
       "    Min       1Q   Median       3Q      Max  \n",
       "-2.5028  -0.5021  -0.3551   0.5215   2.6749  \n",
       "\n",
       "Coefficients: (22 not defined because of singularities)\n",
       "                          Estimate Std. Error z value Pr(>|z|)    \n",
       "(Intercept)                12.8124  1131.2037   0.011 0.990963    \n",
       "SibSp                      -0.8828     0.2048  -4.310 1.63e-05 ***\n",
       "Parch                      -0.4237     0.1763  -2.404 0.016216 *  \n",
       "PrefixesMaster              4.2764     1.2202   3.505 0.000457 ***\n",
       "PrefixesMiss              -28.6619  1694.3293  -0.017 0.986503    \n",
       "PrefixesMr                  0.3619     1.0445   0.346 0.728988    \n",
       "PrefixesMrs               -27.9107  1694.3293  -0.016 0.986857    \n",
       "PrefixesNoble             -14.7870  1264.9205  -0.012 0.990673    \n",
       "PrefixesOfficer             1.1904     1.4149   0.841 0.400184    \n",
       "PrefixesRev               -14.4483   969.6624  -0.015 0.988112    \n",
       "FamilySize                      NA         NA      NA       NA    \n",
       "Sex_female                 32.1084  1694.3290   0.019 0.984881    \n",
       "Sex_male                        NA         NA      NA       NA    \n",
       "Embarked_C                  0.5008     0.2708   1.850 0.064385 .  \n",
       "Embarked_Q                  0.3163     0.3572   0.885 0.376010    \n",
       "Embarked_S                      NA         NA      NA       NA    \n",
       "Pclass_1                    1.6208     0.4180   3.878 0.000105 ***\n",
       "Pclass_2                    1.0405     0.2775   3.749 0.000177 ***\n",
       "Pclass_3                        NA         NA      NA       NA    \n",
       "Accompanied_0              -0.1300     0.3662  -0.355 0.722669    \n",
       "Accompanied_1                   NA         NA      NA       NA    \n",
       "AgeBins_Infant              2.0250     0.9425   2.148 0.031677 *  \n",
       "AgeBins_Toddler             3.2880     1.0465   3.142 0.001678 ** \n",
       "AgeBins_Child               1.0959     0.9323   1.176 0.239790    \n",
       "AgeBins_Teen                1.2579     0.7144   1.761 0.078292 .  \n",
       "`AgeBins_Young Adult`       1.1350     0.6528   1.739 0.082073 .  \n",
       "AgeBins_Adult               0.5508     0.6620   0.832 0.405434    \n",
       "AgeBins_Senior                  NA         NA      NA       NA    \n",
       "`FareBins_[-0.512,17.1]`  -16.6876  1131.2029  -0.015 0.988230    \n",
       "`FareBins_(17.1,34.2]`    -16.1588  1131.2029  -0.014 0.988603    \n",
       "`FareBins_(34.2,51.2]`    -16.8555  1131.2029  -0.015 0.988112    \n",
       "`FareBins_(51.2,68.3]`    -14.7437  1131.2029  -0.013 0.989601    \n",
       "`FareBins_(68.3,85.4]`    -15.9558  1131.2029  -0.014 0.988746    \n",
       "`FareBins_(85.4,102]`     -13.3446  1131.2035  -0.012 0.990588    \n",
       "`FareBins_(102,120]`      -16.1908  1131.2032  -0.014 0.988580    \n",
       "`FareBins_(120,137]`      -13.2136  1131.2037  -0.012 0.990680    \n",
       "`FareBins_(137,154]`      -17.5689  1131.2032  -0.016 0.987608    \n",
       "`FareBins_(154,171]`       -1.4476  2037.1062  -0.001 0.999433    \n",
       "`FareBins_(171,188]`            NA         NA      NA       NA    \n",
       "`FareBins_(188,205]`            NA         NA      NA       NA    \n",
       "`FareBins_(205,222]`      -16.9932  1131.2035  -0.015 0.988014    \n",
       "`FareBins_(222,239]`      -16.9497  1131.2037  -0.015 0.988045    \n",
       "`FareBins_(239,256]`      -17.6330  1131.2044  -0.016 0.987563    \n",
       "`FareBins_(256,273]`      -13.8141  1131.2037  -0.012 0.990257    \n",
       "`FareBins_(273,290]`            NA         NA      NA       NA    \n",
       "`FareBins_(290,307]`            NA         NA      NA       NA    \n",
       "`FareBins_(307,324]`            NA         NA      NA       NA    \n",
       "`FareBins_(324,342]`            NA         NA      NA       NA    \n",
       "`FareBins_(342,359]`            NA         NA      NA       NA    \n",
       "`FareBins_(359,376]`            NA         NA      NA       NA    \n",
       "`FareBins_(376,393]`            NA         NA      NA       NA    \n",
       "`FareBins_(393,410]`            NA         NA      NA       NA    \n",
       "`FareBins_(410,427]`            NA         NA      NA       NA    \n",
       "`FareBins_(427,444]`            NA         NA      NA       NA    \n",
       "`FareBins_(444,461]`            NA         NA      NA       NA    \n",
       "`FareBins_(461,478]`            NA         NA      NA       NA    \n",
       "`FareBins_(478,495]`            NA         NA      NA       NA    \n",
       "`FareBins_(495,513]`            NA         NA      NA       NA    \n",
       "---\n",
       "Signif. codes:  0 '***' 0.001 '**' 0.01 '*' 0.05 '.' 0.1 ' ' 1\n",
       "\n",
       "(Dispersion parameter for binomial family taken to be 1)\n",
       "\n",
       "    Null deviance: 1186.7  on 890  degrees of freedom\n",
       "Residual deviance:  679.0  on 855  degrees of freedom\n",
       "AIC: 751\n",
       "\n",
       "Number of Fisher Scoring iterations: 15\n"
      ]
     },
     "metadata": {},
     "output_type": "display_data"
    }
   ],
   "source": [
    "mylogit <- glm(Survived ~ ., \n",
    "               data = train_X, \n",
    "               family = \"binomial\"(link = \"logit\"))\n",
    "summary(mylogit)"
   ]
  },
  {
   "cell_type": "code",
   "execution_count": null,
   "metadata": {},
   "outputs": [],
   "source": []
  }
 ],
 "metadata": {
  "hide_input": false,
  "interpreter": {
   "hash": "16b06b994cbcb344dc2cd7cdf63d604b72ab02fa9dcf9407c7bd609b26bf2ef1"
  },
  "kernelspec": {
   "display_name": "R",
   "language": "R",
   "name": "ir"
  },
  "toc": {
   "base_numbering": 1,
   "nav_menu": {},
   "number_sections": true,
   "sideBar": true,
   "skip_h1_title": false,
   "title_cell": "Table of Contents",
   "title_sidebar": "Contents",
   "toc_cell": false,
   "toc_position": {},
   "toc_section_display": true,
   "toc_window_display": false
  },
  "varInspector": {
   "cols": {
    "lenName": "30",
    "lenType": 16,
    "lenVar": "20"
   },
   "kernels_config": {
    "python": {
     "delete_cmd_postfix": "",
     "delete_cmd_prefix": "del ",
     "library": "var_list.py",
     "varRefreshCmd": "print(var_dic_list())"
    },
    "r": {
     "delete_cmd_postfix": ") ",
     "delete_cmd_prefix": "rm(",
     "library": "var_list.r",
     "varRefreshCmd": "cat(var_dic_list()) "
    }
   },
   "position": {
    "height": "255px",
    "left": "1220.99px",
    "right": "20px",
    "top": "359.983px",
    "width": "382.983px"
   },
   "types_to_exclude": [
    "module",
    "function",
    "builtin_function_or_method",
    "instance",
    "_Feature"
   ],
   "window_display": false
  }
 },
 "nbformat": 4,
 "nbformat_minor": 2
}
